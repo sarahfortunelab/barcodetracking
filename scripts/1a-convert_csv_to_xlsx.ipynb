{
 "cells": [
  {
   "cell_type": "code",
   "execution_count": 29,
   "metadata": {
    "collapsed": true
   },
   "outputs": [],
   "source": [
    "import pandas as pd\n",
    "import numpy as np"
   ]
  },
  {
   "cell_type": "code",
   "execution_count": 3,
   "metadata": {
    "collapsed": true
   },
   "outputs": [],
   "source": [
    "\"\"\"USER INPUTS\"\"\"\n",
    "\n",
    "\"\"\"input csv file path\"\"\"\n",
    "CSV = \"../output/filtered-sample.csv\"\n",
    "\n",
    "\"\"\"output xlsx file path\"\"\"\n",
    "XLSX = \"../output/filtered-sample.xlsx\""
   ]
  },
  {
   "cell_type": "code",
   "execution_count": 64,
   "metadata": {
    "collapsed": false
   },
   "outputs": [],
   "source": [
    "# read in and format \n",
    "data = pd.read_csv(CSV)\n",
    "if \"Unnamed: 0\" in data.columns:\n",
    "    data.drop(\"Unnamed: 0\", axis=1, inplace=True)\n",
    "data = data[['idx','qtag','barcode','mcountsPF','readsPF']]\n",
    "data.sort_values(by=['idx','mcountsPF','readsPF'], ascending=[True,False,False], inplace=True)\n",
    "# write each idx to excel\n",
    "writer = pd.ExcelWriter(XLSX)\n",
    "data.groupby('idx').apply(lambda x: x.to_excel(writer, x.name, index=False))\n",
    "# save excel and close\n",
    "writer.save()"
   ]
  }
 ],
 "metadata": {
  "kernelspec": {
   "display_name": "Python 2",
   "language": "python",
   "name": "python2"
  },
  "language_info": {
   "codemirror_mode": {
    "name": "ipython",
    "version": 2
   },
   "file_extension": ".py",
   "mimetype": "text/x-python",
   "name": "python",
   "nbconvert_exporter": "python",
   "pygments_lexer": "ipython2",
   "version": "2.7.11"
  }
 },
 "nbformat": 4,
 "nbformat_minor": 1
}
