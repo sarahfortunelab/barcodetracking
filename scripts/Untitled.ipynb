{
 "cells": [
  {
   "cell_type": "markdown",
   "metadata": {},
   "source": [
    "### The Zen of Python, by Tim Peters\n",
    "\n",
    "Beautiful is better than ugly.<br/>\n",
    "Explicit is better than implicit.<br/>\n",
    "Simple is better than complex.<br/>\n",
    "Complex is better than complicated.<br/>\n",
    "\n",
    "Flat is better than nested.<br/>\n",
    "Sparse is better than dense.<br/>\n",
    "Readability counts.<br/>\n",
    "Special cases aren't special enough to break the rules.<br/>\n",
    "Although practicality beats purity.<br/>\n",
    "\n",
    "Errors should never pass silently.<br/>\n",
    "Unless explicitly silenced.<br/>\n",
    "In the face of ambiguity, refuse the temptation to guess.<br/>\n",
    "There should be one-- and preferably only one --obvious way to do it.<br/>\n",
    "\n",
    "Although that way may not be obvious at first unless you're Dutch.<br/>\n",
    "Now is better than never.<br/>\n",
    "Although never is often better than *right* now.<br/>\n",
    "If the implementation is hard to explain, it's a bad idea.<br/>\n",
    "If the implementation is easy to explain, it may be a good idea.<br/>\n",
    "\n",
    "Namespaces are one honking great idea -- let's do more of those!<br/>\n"
   ]
  }
 ],
 "metadata": {
  "anaconda-cloud": {},
  "kernelspec": {
   "display_name": "Python [Root]",
   "language": "python",
   "name": "Python [Root]"
  },
  "language_info": {
   "codemirror_mode": {
    "name": "ipython",
    "version": 2
   },
   "file_extension": ".py",
   "mimetype": "text/x-python",
   "name": "python",
   "nbconvert_exporter": "python",
   "pygments_lexer": "ipython2",
   "version": "2.7.12"
  }
 },
 "nbformat": 4,
 "nbformat_minor": 0
}
