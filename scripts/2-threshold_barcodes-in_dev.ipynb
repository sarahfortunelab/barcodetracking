{
 "cells": [
  {
   "cell_type": "code",
   "execution_count": 16,
   "metadata": {
    "collapsed": false,
    "scrolled": false
   },
   "outputs": [],
   "source": [
    "import pandas as pd\n",
    "import numpy as np\n",
    "import regex\n",
    "import os, sys"
   ]
  },
  {
   "cell_type": "markdown",
   "metadata": {},
   "source": [
    "# USER INPUTS"
   ]
  },
  {
   "cell_type": "code",
   "execution_count": 17,
   "metadata": {
    "collapsed": false
   },
   "outputs": [],
   "source": [
    "\"\"\"Experiment name to prepend output files\"\"\"\n",
    "EXPERIMENT = \"sample\"\n",
    "\n",
    "\"\"\"Directory path to input data \n",
    "    (filtered; output from '1-read_fastq_id_features)\n",
    "\"\"\"\n",
    "FILTERED_FILEPATH = \"../output/filtered-sample.csv\"\n",
    "\"\"\"Directory path to save output\"\"\"\n",
    "OUTPUT_DIRECTORY = \"../output\"\n",
    "\n",
    "\"\"\"Minimum number of reads as a baseline. Used to simplify data processing.\"\"\"\n",
    "MIN_READS = 100"
   ]
  },
  {
   "cell_type": "markdown",
   "metadata": {},
   "source": [
    "# PRESETS AND SCRIPT"
   ]
  },
  {
   "cell_type": "code",
   "execution_count": 18,
   "metadata": {
    "collapsed": true
   },
   "outputs": [],
   "source": [
    "\"\"\"Column names correspoinding to eponymous variables\"\"\"\n",
    "\n",
    "SAMPLE = 'idx'\n",
    "QTAG = 'qtag'\n",
    "BARCODE = 'barcode'\n",
    "READS = 'readsPF'\n",
    "MCOUNTS = 'mcountsPF'\n",
    "PERCENT_MCOUNTS = 'percent_%s'%MCOUNTS\n",
    "GROUPBY = ['idx']\n",
    "\n",
    "# for older versions/ formats\n",
    "# SAMPLE = 'idx'\n",
    "# QTAG = 'qtag'\n",
    "# BARCODE = 'gtag'\n",
    "# READS = 'reads'\n",
    "# MCOUNTS = 'molecs'\n",
    "# PERCENT_MCOUNTS = 'percent_%s'%MCOUNTS\n",
    "# GROUPBY = ['idx']"
   ]
  },
  {
   "cell_type": "code",
   "execution_count": 19,
   "metadata": {
    "collapsed": true
   },
   "outputs": [],
   "source": [
    "def check_inputs():\n",
    "    \n",
    "    # modules\n",
    "    assert pd\n",
    "    assert np\n",
    "    assert regex\n",
    "    assert os\n",
    "    assert sys\n",
    "    \n",
    "    # user experiment inputs \n",
    "    assert EXPERIMENT\n",
    "    assert FILTERED_FILEPATH\n",
    "    assert OUTPUT_DIRECTORY\n",
    "    assert MIN_READS\n",
    "    \n",
    "    # user columns\n",
    "    assert SAMPLE\n",
    "    assert QTAG\n",
    "    assert BARCODE\n",
    "    assert READS\n",
    "    assert MCOUNTS\n",
    "    assert PERCENT_MCOUNTS\n",
    "    assert GROUPBY\n",
    "    "
   ]
  },
  {
   "cell_type": "code",
   "execution_count": 20,
   "metadata": {
    "collapsed": true
   },
   "outputs": [],
   "source": [
    "def calculate_percent_molecs(df, mcounts=MCOUNTS, percent_mcounts=PERCENT_MCOUNTS):\n",
    "    \"\"\"Updates percent molec counters for sample\"\"\"\n",
    "    total = float(df[mcounts].values.sum()) / 100.\n",
    "    df[percent_mcounts] = df[mcounts].apply(lambda x: x/total)\n",
    "    df = df.sort_values(by=mcounts, ascending=False)\n",
    "    return df"
   ]
  },
  {
   "cell_type": "code",
   "execution_count": 21,
   "metadata": {
    "collapsed": true
   },
   "outputs": [],
   "source": [
    "def load_data(filtered_file, sample=SAMPLE, qtag=QTAG, \n",
    "              barcode=BARCODE, mcounts=MCOUNTS, reads=READS):\n",
    "    \"\"\"Loads filtered lib-ID-barcode data csv to dict of samples\"\"\"\n",
    "    columns = [sample, qtag, barcode, mcounts, reads]\n",
    "    # loads excel file (all tabs)\n",
    "    csv = pd.read_csv(filtered_file, sep=',')\n",
    "    # filter out null barcodes just in case (if custom user input)\n",
    "    csv = csv.loc[(csv[qtag]!='None') & (csv[barcode]!='None')]\n",
    "    csv = csv[columns]\n",
    "    csv[sample] = csv[sample].apply(lambda x: str(x))\n",
    "    # get percent molecs per sample, store as output dict entry \n",
    "    groups = csv.groupby(sample)\n",
    "    data = []\n",
    "    for i, group in csv.groupby(sample):\n",
    "        data.append((i,calculate_percent_molecs(group)))\n",
    "    return data\n"
   ]
  },
  {
   "cell_type": "code",
   "execution_count": 22,
   "metadata": {
    "collapsed": false
   },
   "outputs": [],
   "source": [
    "def check_data(d, sample=SAMPLE, mcounts=MCOUNTS, reads=READS):\n",
    "    \"\"\"Check data for proper format, input values, and \n",
    "    converts into list-like object if necessary\n",
    "\n",
    "    d(list, np.array ,dict, or pd.DataFrame): input data\n",
    "    \n",
    "    Returns: data set as a list-like object, wherein\n",
    "        each item is a pair containing sample name (str) and \n",
    "        sample data (pd.DataFrame), in that order.\n",
    "    \"\"\"\n",
    "    data_arr = []\n",
    "    # wrangle data to list of list-like pairs, as \"[idx, df]\"\n",
    "    if type(d) in [np.array, list] :\n",
    "        data_arr = d\n",
    "    elif type(d) == dict:\n",
    "        data_arr = d.items()\n",
    "    elif type(d) == pd.DataFrame :\n",
    "        data_arr = [(s,df) for s,df in d.groupby(sample)]\n",
    "    else:\n",
    "        print \"Input data is not in correct format. Please provide \\\n",
    "        list-like, dict, or pd.DataFrame object.\"\n",
    "    \n",
    "    # check input has correct values\n",
    "    try:\n",
    "        for a in data_arr:\n",
    "            assert len(a) == 2, \"incorrect item length\"\n",
    "            s, df = a\n",
    "            assert type(s) == str, 'sample name is not string type'\n",
    "            assert type(df) == pd.DataFrame, \"incorrect value type: must be pd.DataFrame\"\n",
    "            assert sample in df.columns, \"%s not in dataframe\"%sample\n",
    "            assert mcounts in df.columns, \"%s not in dataframe\"%mcounts\n",
    "            assert reads in df.columns, \"%s not in dataframe\"%reads\n",
    "    # if no \n",
    "    except IndexError as e:\n",
    "        print \"Item number of values is not 2.\\n\"\n",
    "        print \"IndexError. \",e.message\n",
    "        print a\n",
    "    except ValueError as e:\n",
    "        print \"Sample name could not be converted to float: %s\\n\"% type(item[i])\n",
    "        print \"ValueError. \",e.message\n",
    "        print a\n",
    "    except AssertionError as e:\n",
    "        print \"Assertion failed:\"\n",
    "        print e.message\n",
    "        print a\n",
    "    \n",
    "    return data_arr"
   ]
  },
  {
   "cell_type": "code",
   "execution_count": 23,
   "metadata": {
    "collapsed": false
   },
   "outputs": [],
   "source": [
    "def threshold(group, reps_remaining, thresh_val, thresh_i,\n",
    "             percent_mcounts=PERCENT_MCOUNTS, mcounts=MCOUNTS):\n",
    "    \"\"\"Thresholds barcodes of a given sample\n",
    "\n",
    "        group(pd.DataFrame): df containing library-ID-barcodes, \n",
    "            mcountsPF and percent_mcountsPF\n",
    "        reps_remaining(int): reps remaining from max number \n",
    "            input from user \n",
    "        thresh_val(float or int): initial threshold value (percent_mcountPF)\n",
    "            provided from previous recursion or user input\n",
    "        thresh_i(int): initial position of threshold value in \n",
    "            percent_mcountsPF list, ranging [0,len(group))\n",
    "\n",
    "        Returns: \n",
    "            None, if thresholding fails;\n",
    "            passed(pd.DataFrame), if thresholding successful; or\n",
    "            self, otherwise, with updated threshold values and \n",
    "                group df.\n",
    "    \"\"\"\n",
    "    # max out reps\n",
    "    if reps_remaining <= 0:\n",
    "        print 'Maxed out reps. Skipping sample.'\n",
    "    # no barcodes passed threshold \n",
    "    elif len(group) == 0:\n",
    "        print \"No barcodes passed threshold. Skipping sample.\"\n",
    "    else:\n",
    "        # calculate new threshold \n",
    "        # line add 2016-10-12 to pre-sort values\n",
    "        group.sort_values(by=mcounts, ascending=False, inplace=True)\n",
    "        group = calculate_percent_molecs(group)\n",
    "        calc_threshold_i = calculate_threshold(group[mcounts].values)\n",
    "        if calc_threshold_i < 0:\n",
    "            print \"Insufficient number of reads in sample. Skipping.\"\n",
    "        else:\n",
    "            new_thresh_i = min(calc_threshold_i, len(group)-1)\n",
    "            new_thresh_val = group[percent_mcounts].values[new_thresh_i]\n",
    "            # if reached steady state\n",
    "            if new_thresh_val == thresh_val:\n",
    "                # get rid of any \"padding\" barcodes (see eliminate_oneoffs fn)\n",
    "                # line added 2016-10-12 to remove barcodes that didn't pass threshold\n",
    "                passed_temp = group.loc[(group.is_padding==False) & (group[percent_mcounts]>=new_thresh_val)]\n",
    "                passed = calculate_percent_molecs(passed_temp)\n",
    "                passed.reset_index(inplace=True,drop=True)\n",
    "                sys.stdout.write('Thresholded.\\n')\n",
    "                return passed\n",
    "            # recursively clean and re-threshold\n",
    "            else:\n",
    "                # clean up group by eliminating one-offs\n",
    "                group = calculate_percent_molecs(group)\n",
    "                cleaned = eliminate_oneoffs(group,new_thresh_val)\n",
    "                cleaned.reset_index(inplace=True,drop=True)\n",
    "                # recurse with cleaned df and new threshold values\n",
    "                return threshold(cleaned, reps_remaining-1, new_thresh_val, \n",
    "                                 new_thresh_i, percent_mcounts=percent_mcounts, \n",
    "                                 mcounts=mcounts)\n",
    "        \n",
    "    # if thresholding failed, return None\n",
    "    sys.stdout.write('Skipped.\\n')\n",
    "    return pd.DataFrame()"
   ]
  },
  {
   "cell_type": "code",
   "execution_count": 505,
   "metadata": {
    "collapsed": false
   },
   "outputs": [],
   "source": [
    "# STEP 2: CALCULATE THRESHOLD via. CONCAVITY\n",
    "\n",
    "\n",
    "def calculate_threshold(y):\n",
    "    \"\"\"Calculates threshold of series with modified concavity approach\n",
    "\n",
    "        y(np.array or list): list or list-like object of \n",
    "            values as floats or ints\n",
    "\n",
    "        Returns index of inflection point in array, \n",
    "            i.e. threshold position.\n",
    "    \"\"\"\n",
    "    def rolling_window(arr):\n",
    "        \"\"\"Constructs list of overlapping subarray ranges of size 2\"\"\"\n",
    "        shape = arr.shape[:-1] + (arr.shape[-1]-1, 2)\n",
    "        strides = arr.strides + (arr.strides[-1],)\n",
    "        windows = np.lib.stride_tricks.as_strided(arr, \n",
    "                              shape=shape, strides=strides)\n",
    "        return windows\n",
    "    def first_d_gen(windows):\n",
    "        \"\"\"Generates first derivative of windows as relative difference\"\"\"\n",
    "        for w in windows:\n",
    "            # amended 2016-10-12: normalize by y midpoint instead of second point to \n",
    "            # better represent the count magnitude of segment\n",
    "            yield float(w[1]-w[0])/(w[0]+w[1])*2\n",
    "    def second_d_gen(windows):\n",
    "        \"\"\"Generates second derivative of windows\"\"\"\n",
    "        for w in windows:\n",
    "            yield w[1]-w[0]         \n",
    "    \n",
    "    y_temp = sorted(y, reverse=True)\n",
    "    # left and right padding to cover all array vals in derivations\n",
    "    yarray = np.concatenate([ [y_temp[0]], y_temp, [1] ])\n",
    "    # calculates first derivative\n",
    "    first_windows = rolling_window(yarray)\n",
    "    first_derivs = np.fromiter(first_d_gen(first_windows), np.float\n",
    "                               , count=len(first_windows))\n",
    "    # calculates second derivative\n",
    "    second_windows = rolling_window(first_derivs)\n",
    "    second_derivs = np.fromiter(second_d_gen(second_windows), np.float\n",
    "                                , count=len(second_windows))\n",
    "    # gets index or position value of inflection point (curves down ), adjust by adding 1\n",
    "    # for second deriv\n",
    "    thresh_i = np.argmin(second_derivs)+1\n",
    "\n",
    "    return thresh_i"
   ]
  },
  {
   "cell_type": "code",
   "execution_count": 25,
   "metadata": {
    "collapsed": false
   },
   "outputs": [],
   "source": [
    "def eliminate_oneoffs(group, thresh_val, pad=True,\n",
    "                      qtag=QTAG, barcode=BARCODE, percent_mcounts=PERCENT_MCOUNTS, \n",
    "                      mcounts=MCOUNTS):\n",
    "    \"\"\"Eliminate barcodes that are one position off from a more-abundant barcode\n",
    "        group(pd.DataFrame): df containing qtag, barcode, and percent_mcounts columns\n",
    "        thresh_val(float): threshold value to select high abundant barcodes\n",
    "            to iterate through as 'major' ones\n",
    "        pad(bool): if True, adds a right pad so last non-eliminated value \n",
    "            can be analyzed in by the threshold() function. Default True.\n",
    "        qtag, barcode, percent_mcounts, mcounts (str): column names for the corresponding\n",
    "            argument. Defaults are global vars QTAG, BARCODE, PERCENT_MCOUNTS, MCOUNTS.\n",
    "\n",
    "        Returns: table of barcodes that passed elimination\n",
    "    \"\"\"\n",
    "    group.loc[:,'delete'] = group[mcounts].apply(lambda _: False)\n",
    "    group.loc[:,'is_padding'] = group[mcounts].apply(lambda _: False)\n",
    "    counter = 0\n",
    "    # add capability to check other parameters, i.e. qtag\n",
    "    for majorI, majorRow in group.loc[group[percent_mcounts] > thresh_val].iterrows():\n",
    "        # if it has not yet been tested\n",
    "        if majorRow.delete == False:\n",
    "            subgroup = group[counter+1:].loc[(group.delete==False)]\n",
    "            # for each 'minor' barcode aka. with fewer molecs, test if one-off from major\n",
    "            for minorI, minorRow in subgroup.iterrows():\n",
    "                query = regex.search(\"(%s){s<=1}\" % majorRow[barcode],\n",
    "                                     minorRow[barcode])\n",
    "                if query:\n",
    "                    group.loc[minorI,'delete'] = True\n",
    "        counter+=1\n",
    "        \n",
    "    # select barcodes which pass, ie. are not eliminated\n",
    "    output = group.loc[(group.delete==False) & (group[percent_mcounts] >= thresh_val)]\n",
    "\n",
    "    # if requested, adds a right pad  \n",
    "    # line added 2016-10-12: combine two conditions: ensure that \n",
    "    # no null rows get added if all barcodes are accepted\n",
    "    if pad==True and len(group) != len(group.delete==False):\n",
    "        deletes = group.loc[(group.delete==True) & (group[percent_mcounts]<thresh_val)][mcounts]\n",
    "        max_i = deletes.idxmax()\n",
    "        output.append(group.loc[max_i,:])\n",
    "        output.loc[max_i,['delete', 'is_padding']] = [False, True]\n",
    "    return output\n",
    "            "
   ]
  },
  {
   "cell_type": "code",
   "execution_count": 412,
   "metadata": {
    "collapsed": false
   },
   "outputs": [],
   "source": [
    "def run_threshold(d, sample=SAMPLE, qtag=QTAG, barcode=BARCODE, \n",
    "                  mcounts=MCOUNTS, reads=READS, percent_mcounts=PERCENT_MCOUNTS,\n",
    "                  min_reads=MIN_READS, min_mcount=50):\n",
    "    \"\"\"Run threshold algorithm for each sample in dataset\n",
    "\n",
    "        d(np.array, list, dict, or pd.DataFrame): dataset for all samples\n",
    "        sample, qtag, barcode, mcounts, reads, percent_mcounts(str): columns in df for \n",
    "            corresponding vals. Defaults are global vars SAMPLE, QTAG, BARCODE, MCOUNTS, \n",
    "            READS, PERCENT_MCOUNTS.\n",
    "        min_reads(int): minimum number of reads for a library-ID-barcode as an \n",
    "            absolute baseline (that which any barcode below is highly likely to be \n",
    "            false.) Default is global var MIN_READS.\n",
    "        min_mcount(int): minimum number of molecs for library-ID-barcode as an\n",
    "            absolute baseline. Default is 50.\n",
    "\n",
    "        Note: min_reads and min_mcount are applied to increase performance.\n",
    "\n",
    "        Returns: \n",
    "            pd.DataFrame, if successful, of 'true' (passed) library-ID-barcodes \n",
    "                for all samples\n",
    "            None, if no samples had passing library-ID-barcodes.\n",
    "    \"\"\"\n",
    "    passed = []\n",
    "    counter = 1\n",
    "    # checks and formats data (d) to list-like obj of pairs\n",
    "    data_arr = check_data(d, sample=sample, mcounts=mcounts, reads=reads)\n",
    "    # run for each (sample, df) in dataset \n",
    "    for s, group in data_arr:\n",
    "        sys.stdout.write(\"Sample %d of %d (%s): \"%(counter,len(data_arr),s))\n",
    "        # select valid data meeting absolute baseline \n",
    "        group = group.loc[(group[qtag] != 'None') & (group[barcode] != 'None') \n",
    "                          & (group[mcounts] > min_mcount)\n",
    "                          & (group[reads] > min_reads)]\n",
    "        result = threshold(group, 20, -1, len(group)+2)\n",
    "        passed.append(result)\n",
    "        sys.stdout.flush()\n",
    "        counter += 1\n",
    "    # if we do have data (i.e. some barcodes that passed in the samples)\n",
    "    if len(passed) > 0:\n",
    "        # concat all df together\n",
    "        passeddf = pd.concat(passed)\n",
    "        passeddf.sort_values(by=[sample,percent_mcounts]\n",
    "                             ,ascending=[True, False]\n",
    "                             ,inplace=True)\n",
    "        passeddf.drop(['delete','is_padding'], axis=1, inplace=True)\n",
    "        passeddf.reset_index(inplace=True,drop=True)\n",
    "        return passeddf\n",
    "    else:\n",
    "        print \"No samples were successfully thresholded.\"\n",
    "    return "
   ]
  },
  {
   "cell_type": "markdown",
   "metadata": {},
   "source": [
    "### SCRIPT TO SAVE DATA TO CSVs"
   ]
  },
  {
   "cell_type": "code",
   "execution_count": 27,
   "metadata": {
    "collapsed": true
   },
   "outputs": [],
   "source": [
    "def save_data(filtered,passed, output_directory=OUTPUT_DIRECTORY, experiment=EXPERIMENT):\n",
    "    \n",
    "    # Save passed dataframe\n",
    "    passed.to_csv('%s/threshold-%s-passed.csv'%(output_directory,experiment), index=False)\n",
    "    # count and save results\n",
    "    counts = count_sample_barcodes(passed)\n",
    "    counts.to_csv('%s/threshold-%s-counts.csv'%(output_directory,experiment), index=False)\n",
    "    # merge passed and filtered data and save\n",
    "    fc_temp = pd.concat([d[1] for d in filtered])\n",
    "    filtered_concat = apply_passed_data(fc_temp, passed)\n",
    "    filtered_concat.to_csv('%s/threshold-%s-merged.csv'%(output_directory,experiment), index=False)"
   ]
  },
  {
   "cell_type": "code",
   "execution_count": 28,
   "metadata": {
    "collapsed": false
   },
   "outputs": [],
   "source": [
    "def count_sample_barcodes(df, groupby=SAMPLE, barcode=BARCODE, sample=SAMPLE, qtag=QTAG\n",
    "                      , percent_mcounts=PERCENT_MCOUNTS):\n",
    "    \"\"\"Counts passed barcodes per sample and saves as csv\n",
    "    \n",
    "        df(pd.DataFrame): input dataframe containing passed \n",
    "            barcodes of all samples\n",
    "        groupby(str or list-like): columns to group samples by\n",
    "    \"\"\"\n",
    "    agg = df.groupby(groupby).agg(len)\n",
    "    counts = agg[agg.columns[0]]\n",
    "    counts.name = 'count'\n",
    "    counts = pd.DataFrame(counts)\n",
    "    counts.reset_index(inplace=True)\n",
    "    return counts\n",
    "\n"
   ]
  },
  {
   "cell_type": "code",
   "execution_count": 29,
   "metadata": {
    "collapsed": false
   },
   "outputs": [],
   "source": [
    "def apply_passed_data(filtered, passed, sample=SAMPLE, qtag=QTAG\n",
    "                      , barcode=BARCODE, percent_mcounts=PERCENT_MCOUNTS):\n",
    "    \"\"\"Cross reference passed barcodes with raw filtered data\n",
    "        filtered(pd.DataFrame): raw filtered data as dataframe for all samples\n",
    "        passed(pd.DataFrame): data passed threshold (output of run_threshold)\n",
    "        sample,qtag,barcode,percent_mcounts(str): names corresponding to df columns.\n",
    "            Defaults are SAMPLE,QTAG,BARCODE,PERCENT_MCOUNTS.\n",
    "\n",
    "        Returns:\n",
    "            filtered(pd.DataFrame) updated with 'passed_threshold' and \n",
    "            percent_mcounts columns\n",
    "    \"\"\"\n",
    "    def cross_ref_passed(row):\n",
    "        key = (row[sample],row[qtag],row[barcode])\n",
    "        if key in passed_indexed.index:\n",
    "            row[percent_mcounts+'_thresholded'] = passed_indexed.loc[key,percent_mcounts]\n",
    "            row['passed_threshold'] = True\n",
    "        return row\n",
    "\n",
    "    passed_indexed = passed.set_index([sample,qtag,barcode])\n",
    "    filtered.rename(columns={percent_mcounts:percent_mcounts+'_filtered'})\n",
    "    filtered['passed_threshold'] = False\n",
    "    filtered[percent_mcounts+'_thresholded'] = 0\n",
    "    filtered = filtered.apply(cross_ref_passed, axis=1)\n",
    "    return filtered\n",
    "\n"
   ]
  },
  {
   "cell_type": "markdown",
   "metadata": {},
   "source": [
    "# EXECUTE SCRIPT BELOW"
   ]
  },
  {
   "cell_type": "code",
   "execution_count": 90,
   "metadata": {
    "collapsed": true
   },
   "outputs": [
    {
     "name": "stderr",
     "output_type": "stream",
     "text": [
      "C:\\Users\\vwl698\\Anaconda2\\lib\\site-packages\\ipykernel\\__main__.py:4: SettingWithCopyWarning: \n",
      "A value is trying to be set on a copy of a slice from a DataFrame.\n",
      "Try using .loc[row_indexer,col_indexer] = value instead\n",
      "\n",
      "See the caveats in the documentation: http://pandas.pydata.org/pandas-docs/stable/indexing.html#indexing-view-versus-copy\n"
     ]
    },
    {
     "name": "stdout",
     "output_type": "stream",
     "text": [
      "Sample 1 of 4 (NH001): "
     ]
    },
    {
     "name": "stderr",
     "output_type": "stream",
     "text": [
      "C:\\Users\\vwl698\\Anaconda2\\lib\\site-packages\\ipykernel\\__main__.py:30: SettingWithCopyWarning: \n",
      "A value is trying to be set on a copy of a slice from a DataFrame\n",
      "\n",
      "See the caveats in the documentation: http://pandas.pydata.org/pandas-docs/stable/indexing.html#indexing-view-versus-copy\n"
     ]
    },
    {
     "name": "stdout",
     "output_type": "stream",
     "text": [
      "[[66705   214]\n",
      " [  214   209]\n",
      " [  209   209]]\n",
      "[-1.98720842 -0.02364066  0.        ] \n",
      "\n",
      "[[-1.98720842 -0.02364066]\n",
      " [-0.02364066  0.        ]]\n",
      "[ 1.96356775  0.02364066]\n",
      "[[66705 66705]]\n",
      "[ 0.] \n",
      "\n",
      "[]\n",
      "[]\n"
     ]
    },
    {
     "ename": "ValueError",
     "evalue": "attempt to get argmin of an empty sequence",
     "output_type": "error",
     "traceback": [
      "\u001b[1;31m\u001b[0m",
      "\u001b[1;31mValueError\u001b[0mTraceback (most recent call last)",
      "\u001b[1;32m<ipython-input-90-c564aee43572>\u001b[0m in \u001b[0;36m<module>\u001b[1;34m()\u001b[0m\n\u001b[0;32m      5\u001b[0m     \u001b[0mfiltered\u001b[0m \u001b[1;33m=\u001b[0m \u001b[0mload_data\u001b[0m\u001b[1;33m(\u001b[0m\u001b[0mFILTERED_FILEPATH\u001b[0m\u001b[1;33m)\u001b[0m\u001b[1;33m\u001b[0m\u001b[0m\n\u001b[0;32m      6\u001b[0m     \u001b[1;31m# Run thresholding of all samples in dataset\u001b[0m\u001b[1;33m\u001b[0m\u001b[1;33m\u001b[0m\u001b[0m\n\u001b[1;32m----> 7\u001b[1;33m     \u001b[0mpassed\u001b[0m \u001b[1;33m=\u001b[0m \u001b[0mrun_threshold\u001b[0m\u001b[1;33m(\u001b[0m\u001b[0mfiltered\u001b[0m\u001b[1;33m)\u001b[0m\u001b[1;33m\u001b[0m\u001b[0m\n\u001b[0m\u001b[0;32m      8\u001b[0m \u001b[1;31m#     save_data(filtered, passed, output_directory=OUTPUT_DIRECTORY, experiment=EXPERIMENT)\u001b[0m\u001b[1;33m\u001b[0m\u001b[1;33m\u001b[0m\u001b[0m\n",
      "\u001b[1;32m<ipython-input-26-6f1ec5546309>\u001b[0m in \u001b[0;36mrun_threshold\u001b[1;34m(d, sample, qtag, barcode, mcounts, reads, percent_mcounts, min_reads, min_mcount)\u001b[0m\n\u001b[0;32m     33\u001b[0m                           \u001b[1;33m&\u001b[0m \u001b[1;33m(\u001b[0m\u001b[0mgroup\u001b[0m\u001b[1;33m[\u001b[0m\u001b[0mmcounts\u001b[0m\u001b[1;33m]\u001b[0m \u001b[1;33m>\u001b[0m \u001b[0mmin_mcount\u001b[0m\u001b[1;33m)\u001b[0m\u001b[1;33m\u001b[0m\u001b[0m\n\u001b[0;32m     34\u001b[0m                           & (group[reads] > min_reads)]\n\u001b[1;32m---> 35\u001b[1;33m         \u001b[0mresult\u001b[0m \u001b[1;33m=\u001b[0m \u001b[0mthreshold\u001b[0m\u001b[1;33m(\u001b[0m\u001b[0mgroup\u001b[0m\u001b[1;33m,\u001b[0m \u001b[1;36m20\u001b[0m\u001b[1;33m,\u001b[0m \u001b[1;33m-\u001b[0m\u001b[1;36m1\u001b[0m\u001b[1;33m,\u001b[0m \u001b[0mlen\u001b[0m\u001b[1;33m(\u001b[0m\u001b[0mgroup\u001b[0m\u001b[1;33m)\u001b[0m\u001b[1;33m+\u001b[0m\u001b[1;36m2\u001b[0m\u001b[1;33m)\u001b[0m\u001b[1;33m\u001b[0m\u001b[0m\n\u001b[0m\u001b[0;32m     36\u001b[0m         \u001b[0mpassed\u001b[0m\u001b[1;33m.\u001b[0m\u001b[0mappend\u001b[0m\u001b[1;33m(\u001b[0m\u001b[0mresult\u001b[0m\u001b[1;33m)\u001b[0m\u001b[1;33m\u001b[0m\u001b[0m\n\u001b[0;32m     37\u001b[0m         \u001b[0msys\u001b[0m\u001b[1;33m.\u001b[0m\u001b[0mstdout\u001b[0m\u001b[1;33m.\u001b[0m\u001b[0mflush\u001b[0m\u001b[1;33m(\u001b[0m\u001b[1;33m)\u001b[0m\u001b[1;33m\u001b[0m\u001b[0m\n",
      "\u001b[1;32m<ipython-input-23-6a163d3eac26>\u001b[0m in \u001b[0;36mthreshold\u001b[1;34m(group, reps_remaining, thresh_val, thresh_i, percent_mcounts, mcounts)\u001b[0m\n\u001b[0;32m     65\u001b[0m             return threshold(cleaned, reps_remaining-1, new_thresh_val, \n\u001b[0;32m     66\u001b[0m                              \u001b[0mnew_thresh_i\u001b[0m\u001b[1;33m,\u001b[0m \u001b[0mpercent_mcounts\u001b[0m\u001b[1;33m=\u001b[0m\u001b[0mpercent_mcounts\u001b[0m\u001b[1;33m,\u001b[0m\u001b[1;33m\u001b[0m\u001b[0m\n\u001b[1;32m---> 67\u001b[1;33m                              mcounts=mcounts)\n\u001b[0m\u001b[0;32m     68\u001b[0m \u001b[1;33m\u001b[0m\u001b[0m\n\u001b[0;32m     69\u001b[0m     \u001b[1;31m# if thresholding failed, return None\u001b[0m\u001b[1;33m\u001b[0m\u001b[1;33m\u001b[0m\u001b[0m\n",
      "\u001b[1;32m<ipython-input-23-6a163d3eac26>\u001b[0m in \u001b[0;36mthreshold\u001b[1;34m(group, reps_remaining, thresh_val, thresh_i, percent_mcounts, mcounts)\u001b[0m\n\u001b[0;32m     31\u001b[0m         \u001b[1;31m# existing\u001b[0m\u001b[1;33m\u001b[0m\u001b[1;33m\u001b[0m\u001b[0m\n\u001b[0;32m     32\u001b[0m         \u001b[0mgroup\u001b[0m \u001b[1;33m=\u001b[0m \u001b[0mcalculate_percent_molecs\u001b[0m\u001b[1;33m(\u001b[0m\u001b[0mgroup\u001b[0m\u001b[1;33m)\u001b[0m\u001b[1;33m\u001b[0m\u001b[0m\n\u001b[1;32m---> 33\u001b[1;33m         \u001b[0mcalc_threshold_i\u001b[0m \u001b[1;33m=\u001b[0m \u001b[0mcalculate_threshold\u001b[0m\u001b[1;33m(\u001b[0m\u001b[0mgroup\u001b[0m\u001b[1;33m[\u001b[0m\u001b[0mmcounts\u001b[0m\u001b[1;33m]\u001b[0m\u001b[1;33m.\u001b[0m\u001b[0mvalues\u001b[0m\u001b[1;33m)\u001b[0m\u001b[1;33m\u001b[0m\u001b[0m\n\u001b[0m\u001b[0;32m     34\u001b[0m         \u001b[0mnew_thresh_i\u001b[0m \u001b[1;33m=\u001b[0m \u001b[0mmin\u001b[0m\u001b[1;33m(\u001b[0m\u001b[0mcalc_threshold_i\u001b[0m\u001b[1;33m,\u001b[0m \u001b[0mlen\u001b[0m\u001b[1;33m(\u001b[0m\u001b[0mgroup\u001b[0m\u001b[1;33m)\u001b[0m\u001b[1;33m-\u001b[0m\u001b[1;36m1\u001b[0m\u001b[1;33m)\u001b[0m\u001b[1;33m\u001b[0m\u001b[0m\n\u001b[0;32m     35\u001b[0m         \u001b[0mnew_thresh_val\u001b[0m \u001b[1;33m=\u001b[0m \u001b[0mgroup\u001b[0m\u001b[1;33m[\u001b[0m\u001b[0mpercent_mcounts\u001b[0m\u001b[1;33m]\u001b[0m\u001b[1;33m.\u001b[0m\u001b[0mvalues\u001b[0m\u001b[1;33m[\u001b[0m\u001b[0mnew_thresh_i\u001b[0m\u001b[1;33m]\u001b[0m\u001b[1;33m\u001b[0m\u001b[0m\n",
      "\u001b[1;32m<ipython-input-89-b684fdb62597>\u001b[0m in \u001b[0;36mcalculate_threshold\u001b[1;34m(y)\u001b[0m\n\u001b[0;32m     50\u001b[0m \u001b[1;33m\u001b[0m\u001b[0m\n\u001b[0;32m     51\u001b[0m \u001b[1;33m\u001b[0m\u001b[0m\n\u001b[1;32m---> 52\u001b[1;33m     \u001b[0mthresh_i\u001b[0m \u001b[1;33m=\u001b[0m \u001b[0mnp\u001b[0m\u001b[1;33m.\u001b[0m\u001b[0margmin\u001b[0m\u001b[1;33m(\u001b[0m\u001b[0msecond_derivs\u001b[0m\u001b[1;33m)\u001b[0m\u001b[1;33m+\u001b[0m\u001b[1;36m1\u001b[0m\u001b[1;33m\u001b[0m\u001b[0m\n\u001b[0m\u001b[0;32m     53\u001b[0m \u001b[1;33m\u001b[0m\u001b[0m\n\u001b[0;32m     54\u001b[0m \u001b[1;31m#     print \"\\nCALCULATE THRESHOLD\"\u001b[0m\u001b[1;33m\u001b[0m\u001b[1;33m\u001b[0m\u001b[0m\n",
      "\u001b[1;32mC:\\Users\\vwl698\\Anaconda2\\lib\\site-packages\\numpy\\core\\fromnumeric.pyc\u001b[0m in \u001b[0;36margmin\u001b[1;34m(a, axis, out)\u001b[0m\n\u001b[0;32m   1032\u001b[0m     \u001b[1;32mexcept\u001b[0m \u001b[0mAttributeError\u001b[0m\u001b[1;33m:\u001b[0m\u001b[1;33m\u001b[0m\u001b[0m\n\u001b[0;32m   1033\u001b[0m         \u001b[1;32mreturn\u001b[0m \u001b[0m_wrapit\u001b[0m\u001b[1;33m(\u001b[0m\u001b[0ma\u001b[0m\u001b[1;33m,\u001b[0m \u001b[1;34m'argmin'\u001b[0m\u001b[1;33m,\u001b[0m \u001b[0maxis\u001b[0m\u001b[1;33m,\u001b[0m \u001b[0mout\u001b[0m\u001b[1;33m)\u001b[0m\u001b[1;33m\u001b[0m\u001b[0m\n\u001b[1;32m-> 1034\u001b[1;33m     \u001b[1;32mreturn\u001b[0m \u001b[0margmin\u001b[0m\u001b[1;33m(\u001b[0m\u001b[0maxis\u001b[0m\u001b[1;33m,\u001b[0m \u001b[0mout\u001b[0m\u001b[1;33m)\u001b[0m\u001b[1;33m\u001b[0m\u001b[0m\n\u001b[0m\u001b[0;32m   1035\u001b[0m \u001b[1;33m\u001b[0m\u001b[0m\n\u001b[0;32m   1036\u001b[0m \u001b[1;33m\u001b[0m\u001b[0m\n",
      "\u001b[1;31mValueError\u001b[0m: attempt to get argmin of an empty sequence"
     ]
    }
   ],
   "source": [
    "if __name__=='__main__':\n",
    "    # Check all inputs exist and are valid\n",
    "    check_inputs()\n",
    "    # Runs data loading in script\n",
    "    filtered = load_data(FILTERED_FILEPATH)\n",
    "    # Run thresholding of all samples in dataset\n",
    "    passed = run_threshold(filtered)\n",
    "#     save_data(filtered, passed, output_directory=OUTPUT_DIRECTORY, experiment=EXPERIMENT)"
   ]
  },
  {
   "cell_type": "code",
   "execution_count": 74,
   "metadata": {
    "collapsed": false
   },
   "outputs": [],
   "source": [
    "%matplotlib inline\n",
    "import matplotlib.pyplot as plt\n",
    "midx, mdf = mouse[8]"
   ]
  },
  {
   "cell_type": "code",
   "execution_count": 311,
   "metadata": {
    "collapsed": false,
    "scrolled": true
   },
   "outputs": [
    {
     "name": "stderr",
     "output_type": "stream",
     "text": [
      "C:\\Users\\vwl698\\Anaconda2\\lib\\site-packages\\ipykernel\\__main__.py:4: SettingWithCopyWarning: \n",
      "A value is trying to be set on a copy of a slice from a DataFrame.\n",
      "Try using .loc[row_indexer,col_indexer] = value instead\n",
      "\n",
      "See the caveats in the documentation: http://pandas.pydata.org/pandas-docs/stable/indexing.html#indexing-view-versus-copy\n"
     ]
    }
   ],
   "source": [
    "mouse = load_data('../output/filtered-mouse_sample.csv')"
   ]
  },
  {
   "cell_type": "code",
   "execution_count": 735,
   "metadata": {
    "collapsed": false
   },
   "outputs": [
    {
     "data": {
      "text/plain": [
       "array([ 6,  7,  8,  9, 13, 14], dtype=int64)"
      ]
     },
     "execution_count": 735,
     "metadata": {},
     "output_type": "execute_result"
    }
   ],
   "source": [
    "import scipy.fftpack\n"
   ]
  },
  {
   "cell_type": "code",
   "execution_count": null,
   "metadata": {
    "collapsed": true
   },
   "outputs": [],
   "source": [
    "\"\"\"THIS THIS THIS! -- converting to calculate threshold function \n",
    "to integrate into threshold algo \"\"\"\n",
    "\n",
    "\"\"\"************** HOW DO I EXPLAIN spectrum.max()/5????\"\"\"\n",
    "\n",
    "# use this for thresholding\n",
    "def calculate_threshold(y):\n",
    "    \"\"\"calculate_threshold(y, min_reads=1000, N=100)\n",
    "    \n",
    "        Calculates threshold using discrete Fournier transformation to smooth,\n",
    "        followed by inverse to recover initial wave\n",
    "\n",
    "        DFT used as the curve does exhibit wave-like properties.\n",
    "\n",
    "        Input:\n",
    "            y: np.array() containing count values\n",
    "            min_reads (int, optional): minimum total reads in index required (as QC)\n",
    "\n",
    "        Returns:\n",
    "            index of threshold value (int) in y\n",
    "\n",
    "        Note: DFT process is based on answer provided by user Hooked (249341) at\n",
    "        http://stackoverflow.com/questions/20618804/\n",
    "    \"\"\"\n",
    "    y = f2.mcountsPF.values\n",
    "    if sum(y) < 1000:\n",
    "        print \"insufficient number of reads\"\n",
    "        return -1\n",
    "    else:\n",
    "        x = range(1,len(y)+1) \n",
    "        \n",
    "        # DFT starts here\n",
    "        w = scipy.fftpack.rfft(y)\n",
    "        f = scipy.fftpack.rfftfreq(len(y), x[1]-x[0])\n",
    "        spectrum = w**2\n",
    "        cutoff_val = np.percentile(spectrum, 5)\n",
    "        cutoff_idx = spectrum < (spectrum.max()/5)\n",
    "        w2 = w.copy()\n",
    "        w2[cutoff_idx] = 0\n",
    "        y2 = scipy.fftpack.irfft(w2)\n",
    "        # DFT ends here\n",
    "        \n",
    "        # derivative of inverse transformed data\n",
    "        # id threshold (i.e. loc of cutoff)\n",
    "        y2d  =y2[1:]-y2[:-1]\n",
    "        t = np.argmin(y2d[:-1])+1\n",
    "        \n",
    "        \"\"\"THIS STUFF FOR PLOTTING\"\"\"\n",
    "        y2plot = np.log10(y2.copy())\n",
    "        y2plot[np.isnan(y2plot)==True] = 0\n",
    "        \n",
    "        fi, ax1 = plt.subplots()\n",
    "#         fi, (ax1,ax2) = plt.subplots(2)\n",
    "        ax1.plot(np.log10(range(1,len(f2)+1)),np.log10(f2.mcountsPF))\n",
    "        ax1.plot(np.log10(range(1,len(y2plot)+1)),y2plot)\n",
    "        tspan = np.log10([np.min(y),np.max(y)])\n",
    "        ax1.plot(np.log10([t,t]),tspan,lw=2, c='green')\n",
    "        ax1.set_title(f1+\" \"+str(t))\n",
    "        \n",
    "#         ax2.plot(range(1,len(y2d)+1), y2d, c='green')\n",
    "#         tspan2 = [np.min(y2d),np.max(y2d)]\n",
    "#         ax2.plot([t,t],tspan2,lw=4, c='green')\n",
    "\n",
    "        \n"
   ]
  },
  {
   "cell_type": "code",
   "execution_count": 835,
   "metadata": {
    "collapsed": false
   },
   "outputs": [
    {
     "data": {
      "text/plain": [
       "(array([  1,   0,   0,   3,   6,  43,  57, 294,  22,   5], dtype=int64),\n",
       " array([ -3.01401952,  -1.71088561,  -0.4077517 ,   0.89538221,\n",
       "          2.19851611,   3.50165002,   4.80478393,   6.10791783,\n",
       "          7.41105174,   8.71418565,  10.01731955]))"
      ]
     },
     "execution_count": 835,
     "metadata": {},
     "output_type": "execute_result"
    }
   ],
   "source": [
    "np.histogram(np.log10(spectrum))\n"
   ]
  },
  {
   "cell_type": "code",
   "execution_count": 880,
   "metadata": {
    "collapsed": false
   },
   "outputs": [
    {
     "data": {
      "image/png": "[encoded data removed]",
      "text/plain": [
       "<matplotlib.figure.Figure at 0x23db59e8>"
      ]
     },
     "metadata": {},
     "output_type": "display_data"
    },
    {
     "data": {
      "image/png": "[encoded data removed]",
      "text/plain": [
       "<matplotlib.figure.Figure at 0x228e9208>"
      ]
     },
     "metadata": {},
     "output_type": "display_data"
    },
    {
     "data": {
      "image/png": "[encoded data removed]",
      "text/plain": [
       "<matplotlib.figure.Figure at 0x1acad6a0>"
      ]
     },
     "metadata": {},
     "output_type": "display_data"
    },
    {
     "data": {
      "image/png": "[encoded data removed]",
      "text/plain": [
       "<matplotlib.figure.Figure at 0x20cdb668>"
      ]
     },
     "metadata": {},
     "output_type": "display_data"
    }
   ],
   "source": [
    "\"\"\"THIS THIS THIS!\"\"\"\n",
    "\n",
    "for f1, f2 in filtered:\n",
    "# for f1, f2 in mouse:\n",
    "    N = 100\n",
    "    y = f2.mcountsPF.values\n",
    "    if sum(y) > 1000:\n",
    "        x = range(1,len(y)+1)      \n",
    "        w = scipy.fftpack.rfft(y)\n",
    "        f = scipy.fftpack.rfftfreq(len(y), x[1]-x[0])\n",
    "        spectrum = w**2\n",
    "        # find value of element 2 std below mean\n",
    "        # using log10 spectrum values; frequencies are\n",
    "        # in a gaussian-like distribution\n",
    "        logspec = np.log10(spectrum)\n",
    "#         cutoff_val = 10**abs(np.mean(logspec) - np.median(logspec))*2\n",
    "        cutoff_val = spectrum.max()/5\n",
    "#         cutoff_val = spectrum.max()/(10**abs(np.mean(logspec) - np.median(logspec))^2)\n",
    "\n",
    "        cutoff_idx = spectrum < cutoff_val\n",
    "        w2 = w.copy()\n",
    "        w2[cutoff_idx] = 0\n",
    "        y2 = scipy.fftpack.irfft(w2)\n",
    "        \n",
    "        # derivative of inverse transformed data\n",
    "        # id threshold (i.e. loc of cutoff)\n",
    "        y2d  =y2[1:]-y2[:-1]\n",
    "        t = np.argmin(y2d[:-1])+1\n",
    "        \n",
    "        \"\"\"THIS STUFF FOR PLOTTING\"\"\"\n",
    "        y2plot = np.log10(y2.copy())\n",
    "        y2plot[np.isnan(y2plot)==True] = 0\n",
    "        \n",
    "        fi, ax1 = plt.subplots()\n",
    "#         fi, (ax1,ax2) = plt.subplots(2)\n",
    "        ax1.plot(np.log10(range(1,len(f2)+1)),np.log10(f2.mcountsPF))\n",
    "        ax1.plot(np.log10(range(1,len(y2plot)+1)),y2plot)\n",
    "        tspan = np.log10([np.min(y),np.max(y)])\n",
    "        ax1.plot(np.log10([t,t]),tspan,lw=2, c='green')\n",
    "        ax1.set_title(f1+\" \"+str(t))\n",
    "        \n",
    "#         ax2.plot(range(1,len(y2d)+1), y2d, c='green')\n",
    "#         tspan2 = [np.min(y2d),np.max(y2d)]\n",
    "#         ax2.plot([t,t],tspan2,lw=4, c='green')\n",
    "\n",
    "        "
   ]
  },
  {
   "cell_type": "code",
   "execution_count": 881,
   "metadata": {
    "collapsed": false
   },
   "outputs": [
    {
     "data": {
      "image/png": "[encoded data removed]",
      "text/plain": [
       "<matplotlib.figure.Figure at 0x2176dac8>"
      ]
     },
     "metadata": {},
     "output_type": "display_data"
    }
   ],
   "source": [
    "y2hist_n, y2hist_b, y2hist_f = plt.hist(np.log10(spectrum))\n",
    "splitidx = np.max(np.where(y2hist_n==np.min(y2hist_n)))\n",
    "splitval = y2hist_b[splitidx]\n",
    "# 10**(np.mean(np.log10(spectrum)) - np.std(np.log10(spectrum))*2)\n"
   ]
  },
  {
   "cell_type": "code",
   "execution_count": 830,
   "metadata": {
    "collapsed": false
   },
   "outputs": [
    {
     "data": {
      "text/plain": [
       "0.0"
      ]
     },
     "execution_count": 830,
     "metadata": {},
     "output_type": "execute_result"
    }
   ],
   "source": [
    "10**(np.mean(np.log10(spectrum)) - np.std(np.log10(spectrum))*2)\n",
    "10**(np.mean(y2) - np.std(y2)*2)"
   ]
  },
  {
   "cell_type": "code",
   "execution_count": 891,
   "metadata": {
    "collapsed": false
   },
   "outputs": [
    {
     "data": {
      "text/plain": [
       "3.9445326411782933"
      ]
     },
     "execution_count": 891,
     "metadata": {},
     "output_type": "execute_result"
    }
   ],
   "source": [
    "# divide max by half a standard deviation \n",
    "10**(np.std(np.log10(spectrum))/2)"
   ]
  },
  {
   "cell_type": "code",
   "execution_count": 900,
   "metadata": {
    "collapsed": false
   },
   "outputs": [
    {
     "data": {
      "text/plain": [
       "302665593.5019635"
      ]
     },
     "execution_count": 900,
     "metadata": {},
     "output_type": "execute_result"
    }
   ],
   "source": [
    "np.std(spectrum)/2"
   ]
  },
  {
   "cell_type": "code",
   "execution_count": 896,
   "metadata": {
    "collapsed": false
   },
   "outputs": [
    {
     "data": {
      "text/plain": [
       "-1412521680.2845936"
      ]
     },
     "execution_count": 896,
     "metadata": {},
     "output_type": "execute_result"
    }
   ],
   "source": [
    "np.log10(spectrum.max())-np.std(np.log10(spectrum))"
   ]
  },
  {
   "cell_type": "code",
   "execution_count": 883,
   "metadata": {
    "collapsed": false
   },
   "outputs": [
    {
     "data": {
      "text/plain": [
       "3.1888273580743829"
      ]
     },
     "execution_count": 883,
     "metadata": {},
     "output_type": "execute_result"
    }
   ],
   "source": [
    "(10**abs(np.mean(np.log10(spectrum)) - np.median(np.log10(spectrum))))**2"
   ]
  },
  {
   "cell_type": "code",
   "execution_count": 813,
   "metadata": {
    "collapsed": false
   },
   "outputs": [
    {
     "data": {
      "text/plain": [
       "11025.074068537424"
      ]
     },
     "execution_count": 813,
     "metadata": {},
     "output_type": "execute_result"
    }
   ],
   "source": [
    "np.percentile(spectrum,5)"
   ]
  },
  {
   "cell_type": "code",
   "execution_count": 809,
   "metadata": {
    "collapsed": false
   },
   "outputs": [
    {
     "data": {
      "text/plain": [
       "(2, 0.39106441444491424)"
      ]
     },
     "execution_count": 809,
     "metadata": {},
     "output_type": "execute_result"
    }
   ],
   "source": [
    "splitidx, 10**splitval"
   ]
  },
  {
   "cell_type": "code",
   "execution_count": 792,
   "metadata": {
    "collapsed": false
   },
   "outputs": [
    {
     "data": {
      "text/plain": [
       "21.910108840502602"
      ]
     },
     "execution_count": 792,
     "metadata": {},
     "output_type": "execute_result"
    }
   ],
   "source": [
    "10**splitval"
   ]
  },
  {
   "cell_type": "markdown",
   "metadata": {},
   "source": [
    "### APPENDIX "
   ]
  },
  {
   "cell_type": "code",
   "execution_count": 673,
   "metadata": {
    "collapsed": false
   },
   "outputs": [
    {
     "data": {
      "text/plain": [
       "[['rraw', [13905, 6687, 624, 411, 383, 310, 205, 192, 169, 168, 161]]]"
      ]
     },
     "execution_count": 673,
     "metadata": {},
     "output_type": "execute_result"
    }
   ],
   "source": [
    "[['rraw',[13905,6687,624,411,383,310,205,192,169,168,161]]]\n"
   ]
  },
  {
   "cell_type": "code",
   "execution_count": 175,
   "metadata": {
    "collapsed": true
   },
   "outputs": [
    {
     "data": {
      "text/plain": [
       "[<matplotlib.lines.Line2D at 0x139923c8>]"
      ]
     },
     "execution_count": 175,
     "metadata": {},
     "output_type": "execute_result"
    },
    {
     "data": {
      "image/png": "[encoded data removed]",
      "text/plain": [
       "<matplotlib.figure.Figure at 0x1330cba8>"
      ]
     },
     "metadata": {},
     "output_type": "display_data"
    }
   ],
   "source": [
    "\"\"\"LOWESS\"\"\"\n",
    "\n",
    "yl = statsm.lowess(y, x, frac=0.25)\n",
    "f, ax = plt.subplots()\n",
    "plt.plot(x,[i[1] for i in yl], c='red')\n",
    "plt.plot([50,50],[1,1000])\n",
    "# , frac=0.6666666666666666, it=3, delta=0.0, is_sorted=False, missing='drop', return_sorted=True)\n",
    "\n",
    "\n",
    "for idx, ydf in filtered:\n",
    "    y = np.log10(ydf.mcountsPF.values)\n",
    "    x = np.log10(range(len(y)))\n",
    "    lowess = sm.nonparametric.lowess(y, x, frac=0.6)\n",
    "\n",
    "    plt.plot(x, y, '+')\n",
    "    plt.plot(lowess[:, 0], lowess[:, 1])\n",
    "    plt.show()\n"
   ]
  },
  {
   "cell_type": "code",
   "execution_count": 347,
   "metadata": {
    "collapsed": false
   },
   "outputs": [],
   "source": [
    "\"\"\"elimination before thresholding\"\"\"\n",
    "f2o = eliminate_oneoffs(f2,np.max(yd))\n",
    "print len(f2o)\n",
    "calculate_threshold(f2o.mcountsPF)\n",
    "\n",
    "plt.plot(range(len(f2o)), np.log10(f2o.mcountsPF))\n",
    "f2.loc[:,'passed'] = f2.apply(lambda x: True if (x.qtag,x.barcode) in f2o[['qtag','barcode']] else False, axis=1)\n",
    "len(f2.loc[f2.mcountsPF >= min(f2o.mcountsPF)])\n",
    "\n",
    "plt.plot(range(len(f2)),np.log10(f2.mcountsPF))\n",
    "plt.plot([57,57],[0,3])"
   ]
  },
  {
   "cell_type": "code",
   "execution_count": 399,
   "metadata": {
    "collapsed": true
   },
   "outputs": [
    {
     "name": "stderr",
     "output_type": "stream",
     "text": [
      "C:\\Users\\vwl698\\Anaconda2\\lib\\site-packages\\ipykernel\\__main__.py:30: SettingWithCopyWarning: \n",
      "A value is trying to be set on a copy of a slice from a DataFrame\n",
      "\n",
      "See the caveats in the documentation: http://pandas.pydata.org/pandas-docs/stable/indexing.html#indexing-view-versus-copy\n",
      "C:\\Users\\vwl698\\Anaconda2\\lib\\site-packages\\ipykernel\\__main__.py:4: SettingWithCopyWarning: \n",
      "A value is trying to be set on a copy of a slice from a DataFrame.\n",
      "Try using .loc[row_indexer,col_indexer] = value instead\n",
      "\n",
      "See the caveats in the documentation: http://pandas.pydata.org/pandas-docs/stable/indexing.html#indexing-view-versus-copy\n"
     ]
    },
    {
     "name": "stdout",
     "output_type": "stream",
     "text": [
      "Thresholded.\n",
      "Thresholded.\n",
      "Thresholded.\n",
      "Thresholded.\n"
     ]
    },
    {
     "data": {
      "image/png": "[encoded data removed]",
      "text/plain": [
       "<matplotlib.figure.Figure at 0x199b72b0>"
      ]
     },
     "metadata": {},
     "output_type": "display_data"
    },
    {
     "data": {
      "image/png": "[encoded data removed]",
      "text/plain": [
       "<matplotlib.figure.Figure at 0x18fb27b8>"
      ]
     },
     "metadata": {},
     "output_type": "display_data"
    },
    {
     "data": {
      "image/png": "[encoded data removed]",
      "text/plain": [
       "<matplotlib.figure.Figure at 0x14ca2630>"
      ]
     },
     "metadata": {},
     "output_type": "display_data"
    },
    {
     "data": {
      "image/png": "[encoded data removed]",
      "text/plain": [
       "<matplotlib.figure.Figure at 0x18799ef0>"
      ]
     },
     "metadata": {},
     "output_type": "display_data"
    }
   ],
   "source": [
    "\"\"\"Recalculate threshold after running threshold \"\"\"\n",
    "for f1, f2 in mouse[:4]:\n",
    "    thr_init = threshold(f2, 20, len(f2), -1)\n",
    "    y_init = thr_init.mcountsPF.values\n",
    "    thr_fin = calculate_threshold(y_init[:-1]*(y_init[:-1]-y_init[1:]))-1\n",
    "    f2_line = len(f2.loc[f2.mcountsPF>=y_init[thr_fin]])\n",
    "    f, ax = plt.subplots()\n",
    "#     ax1.plot(np.log10(range(1,len(yd)+1)),np.log10(yd))\n",
    "    ax.plot(range(len(f2.mcountsPF)),np.log10(f2.mcountsPF))\n",
    "    ax.plot([f2_line,f2_line],[0,3])\n",
    "\n",
    "    ax.set_title(f1+\" \"+str(thr_fin))"
   ]
  },
  {
   "cell_type": "code",
   "execution_count": 535,
   "metadata": {
    "collapsed": true
   },
   "outputs": [],
   "source": [
    "import scipy.signal\n",
    "import statsmodels.api as sm\n",
    "import scipy.interpolate"
   ]
  },
  {
   "cell_type": "code",
   "execution_count": 605,
   "metadata": {
    "collapsed": true
   },
   "outputs": [
    {
     "name": "stdout",
     "output_type": "stream",
     "text": [
      "NH120\n"
     ]
    },
    {
     "ename": "ValueError",
     "evalue": "A value in x_new is above the interpolation range.",
     "output_type": "error",
     "traceback": [
      "\u001b[1;31m\u001b[0m",
      "\u001b[1;31mValueError\u001b[0mTraceback (most recent call last)",
      "\u001b[1;32m<ipython-input-605-7a42657bdb08>\u001b[0m in \u001b[0;36m<module>\u001b[1;34m()\u001b[0m\n\u001b[0;32m      6\u001b[0m \u001b[0mlog_interp\u001b[0m \u001b[1;33m=\u001b[0m \u001b[1;32mlambda\u001b[0m \u001b[0mzz\u001b[0m\u001b[1;33m:\u001b[0m \u001b[0mnp\u001b[0m\u001b[1;33m.\u001b[0m\u001b[0mpower\u001b[0m\u001b[1;33m(\u001b[0m\u001b[1;36m10.0\u001b[0m\u001b[1;33m,\u001b[0m \u001b[0mlin_interp\u001b[0m\u001b[1;33m(\u001b[0m\u001b[0mnp\u001b[0m\u001b[1;33m.\u001b[0m\u001b[0mlog10\u001b[0m\u001b[1;33m(\u001b[0m\u001b[0mzz\u001b[0m\u001b[1;33m)\u001b[0m\u001b[1;33m)\u001b[0m\u001b[1;33m)\u001b[0m\u001b[1;33m\u001b[0m\u001b[0m\n\u001b[0;32m      7\u001b[0m \u001b[1;33m\u001b[0m\u001b[0m\n\u001b[1;32m----> 8\u001b[1;33m \u001b[0myinter\u001b[0m \u001b[1;33m=\u001b[0m \u001b[0mlog_interp\u001b[0m\u001b[1;33m(\u001b[0m\u001b[0my\u001b[0m\u001b[1;33m)\u001b[0m\u001b[1;33m\u001b[0m\u001b[0m\n\u001b[0m\u001b[0;32m      9\u001b[0m \u001b[0mplt\u001b[0m\u001b[1;33m.\u001b[0m\u001b[0mplot\u001b[0m\u001b[1;33m(\u001b[0m\u001b[0mx\u001b[0m\u001b[1;33m,\u001b[0m\u001b[0my\u001b[0m\u001b[1;33m)\u001b[0m\u001b[1;33m\u001b[0m\u001b[0m\n\u001b[0;32m     10\u001b[0m \u001b[0mplt\u001b[0m\u001b[1;33m.\u001b[0m\u001b[0mplot\u001b[0m\u001b[1;33m(\u001b[0m\u001b[0mx\u001b[0m\u001b[1;33m,\u001b[0m\u001b[0myinter\u001b[0m\u001b[1;33m)\u001b[0m\u001b[1;33m\u001b[0m\u001b[0m\n",
      "\u001b[1;32m<ipython-input-605-7a42657bdb08>\u001b[0m in \u001b[0;36m<lambda>\u001b[1;34m(zz)\u001b[0m\n\u001b[0;32m      4\u001b[0m \u001b[0mlogy\u001b[0m \u001b[1;33m=\u001b[0m \u001b[0mnp\u001b[0m\u001b[1;33m.\u001b[0m\u001b[0mlog10\u001b[0m\u001b[1;33m(\u001b[0m\u001b[0my\u001b[0m\u001b[1;33m)\u001b[0m\u001b[1;33m\u001b[0m\u001b[0m\n\u001b[0;32m      5\u001b[0m \u001b[0mlin_interp\u001b[0m \u001b[1;33m=\u001b[0m \u001b[0mscipy\u001b[0m\u001b[1;33m.\u001b[0m\u001b[0minterpolate\u001b[0m\u001b[1;33m.\u001b[0m\u001b[0minterp1d\u001b[0m\u001b[1;33m(\u001b[0m\u001b[0mlogx\u001b[0m\u001b[1;33m,\u001b[0m \u001b[0mlogy\u001b[0m\u001b[1;33m)\u001b[0m\u001b[1;33m\u001b[0m\u001b[0m\n\u001b[1;32m----> 6\u001b[1;33m \u001b[0mlog_interp\u001b[0m \u001b[1;33m=\u001b[0m \u001b[1;32mlambda\u001b[0m \u001b[0mzz\u001b[0m\u001b[1;33m:\u001b[0m \u001b[0mnp\u001b[0m\u001b[1;33m.\u001b[0m\u001b[0mpower\u001b[0m\u001b[1;33m(\u001b[0m\u001b[1;36m10.0\u001b[0m\u001b[1;33m,\u001b[0m \u001b[0mlin_interp\u001b[0m\u001b[1;33m(\u001b[0m\u001b[0mnp\u001b[0m\u001b[1;33m.\u001b[0m\u001b[0mlog10\u001b[0m\u001b[1;33m(\u001b[0m\u001b[0mzz\u001b[0m\u001b[1;33m)\u001b[0m\u001b[1;33m)\u001b[0m\u001b[1;33m)\u001b[0m\u001b[1;33m\u001b[0m\u001b[0m\n\u001b[0m\u001b[0;32m      7\u001b[0m \u001b[1;33m\u001b[0m\u001b[0m\n\u001b[0;32m      8\u001b[0m \u001b[0myinter\u001b[0m \u001b[1;33m=\u001b[0m \u001b[0mlog_interp\u001b[0m\u001b[1;33m(\u001b[0m\u001b[0my\u001b[0m\u001b[1;33m)\u001b[0m\u001b[1;33m\u001b[0m\u001b[0m\n",
      "\u001b[1;32mC:\\Users\\vwl698\\Anaconda2\\lib\\site-packages\\scipy\\interpolate\\polyint.pyc\u001b[0m in \u001b[0;36m__call__\u001b[1;34m(self, x)\u001b[0m\n\u001b[0;32m     78\u001b[0m         \"\"\"\n\u001b[0;32m     79\u001b[0m         \u001b[0mx\u001b[0m\u001b[1;33m,\u001b[0m \u001b[0mx_shape\u001b[0m \u001b[1;33m=\u001b[0m \u001b[0mself\u001b[0m\u001b[1;33m.\u001b[0m\u001b[0m_prepare_x\u001b[0m\u001b[1;33m(\u001b[0m\u001b[0mx\u001b[0m\u001b[1;33m)\u001b[0m\u001b[1;33m\u001b[0m\u001b[0m\n\u001b[1;32m---> 80\u001b[1;33m         \u001b[0my\u001b[0m \u001b[1;33m=\u001b[0m \u001b[0mself\u001b[0m\u001b[1;33m.\u001b[0m\u001b[0m_evaluate\u001b[0m\u001b[1;33m(\u001b[0m\u001b[0mx\u001b[0m\u001b[1;33m)\u001b[0m\u001b[1;33m\u001b[0m\u001b[0m\n\u001b[0m\u001b[0;32m     81\u001b[0m         \u001b[1;32mreturn\u001b[0m \u001b[0mself\u001b[0m\u001b[1;33m.\u001b[0m\u001b[0m_finish_y\u001b[0m\u001b[1;33m(\u001b[0m\u001b[0my\u001b[0m\u001b[1;33m,\u001b[0m \u001b[0mx_shape\u001b[0m\u001b[1;33m)\u001b[0m\u001b[1;33m\u001b[0m\u001b[0m\n\u001b[0;32m     82\u001b[0m \u001b[1;33m\u001b[0m\u001b[0m\n",
      "\u001b[1;32mC:\\Users\\vwl698\\Anaconda2\\lib\\site-packages\\scipy\\interpolate\\interpolate.pyc\u001b[0m in \u001b[0;36m_evaluate\u001b[1;34m(self, x_new)\u001b[0m\n\u001b[0;32m    588\u001b[0m         \u001b[0my_new\u001b[0m \u001b[1;33m=\u001b[0m \u001b[0mself\u001b[0m\u001b[1;33m.\u001b[0m\u001b[0m_call\u001b[0m\u001b[1;33m(\u001b[0m\u001b[0mself\u001b[0m\u001b[1;33m,\u001b[0m \u001b[0mx_new\u001b[0m\u001b[1;33m)\u001b[0m\u001b[1;33m\u001b[0m\u001b[0m\n\u001b[0;32m    589\u001b[0m         \u001b[1;32mif\u001b[0m \u001b[1;32mnot\u001b[0m \u001b[0mself\u001b[0m\u001b[1;33m.\u001b[0m\u001b[0m_extrapolate\u001b[0m\u001b[1;33m:\u001b[0m\u001b[1;33m\u001b[0m\u001b[0m\n\u001b[1;32m--> 590\u001b[1;33m             \u001b[0mbelow_bounds\u001b[0m\u001b[1;33m,\u001b[0m \u001b[0mabove_bounds\u001b[0m \u001b[1;33m=\u001b[0m \u001b[0mself\u001b[0m\u001b[1;33m.\u001b[0m\u001b[0m_check_bounds\u001b[0m\u001b[1;33m(\u001b[0m\u001b[0mx_new\u001b[0m\u001b[1;33m)\u001b[0m\u001b[1;33m\u001b[0m\u001b[0m\n\u001b[0m\u001b[0;32m    591\u001b[0m             \u001b[1;32mif\u001b[0m \u001b[0mlen\u001b[0m\u001b[1;33m(\u001b[0m\u001b[0my_new\u001b[0m\u001b[1;33m)\u001b[0m \u001b[1;33m>\u001b[0m \u001b[1;36m0\u001b[0m\u001b[1;33m:\u001b[0m\u001b[1;33m\u001b[0m\u001b[0m\n\u001b[0;32m    592\u001b[0m                 \u001b[1;31m# Note fill_value must be broadcast up to the proper size\u001b[0m\u001b[1;33m\u001b[0m\u001b[1;33m\u001b[0m\u001b[0m\n",
      "\u001b[1;32mC:\\Users\\vwl698\\Anaconda2\\lib\\site-packages\\scipy\\interpolate\\interpolate.pyc\u001b[0m in \u001b[0;36m_check_bounds\u001b[1;34m(self, x_new)\u001b[0m\n\u001b[0;32m    620\u001b[0m                 \"range.\")\n\u001b[0;32m    621\u001b[0m         \u001b[1;32mif\u001b[0m \u001b[0mself\u001b[0m\u001b[1;33m.\u001b[0m\u001b[0mbounds_error\u001b[0m \u001b[1;32mand\u001b[0m \u001b[0mabove_bounds\u001b[0m\u001b[1;33m.\u001b[0m\u001b[0many\u001b[0m\u001b[1;33m(\u001b[0m\u001b[1;33m)\u001b[0m\u001b[1;33m:\u001b[0m\u001b[1;33m\u001b[0m\u001b[0m\n\u001b[1;32m--> 622\u001b[1;33m             raise ValueError(\"A value in x_new is above the interpolation \"\n\u001b[0m\u001b[0;32m    623\u001b[0m                 \"range.\")\n\u001b[0;32m    624\u001b[0m \u001b[1;33m\u001b[0m\u001b[0m\n",
      "\u001b[1;31mValueError\u001b[0m: A value in x_new is above the interpolation range."
     ]
    }
   ],
   "source": [
    "\"\"\"1D interpolation; from stackoverflow\"\"\"\n",
    "y = ydf.mcountsPF.values\n",
    "logx = np.log10(range(1,len(y)+1))\n",
    "logy = np.log10(y)\n",
    "lin_interp = scipy.interpolate.interp1d(logx, logy)\n",
    "log_interp = lambda zz: np.power(10.0, lin_interp(np.log10(zz)))\n",
    "yinter = log_interp(logy)\n",
    "plt.plot(x,y)\n",
    "plt.plot(x,yinter)"
   ]
  },
  {
   "cell_type": "code",
   "execution_count": 583,
   "metadata": {
    "collapsed": true
   },
   "outputs": [
    {
     "data": {
      "image/png": "[encoded data removed]",
      "text/plain": [
       "<matplotlib.figure.Figure at 0x1eea6438>"
      ]
     },
     "metadata": {},
     "output_type": "display_data"
    },
    {
     "data": {
      "image/png": "[encoded data removed]",
      "text/plain": [
       "<matplotlib.figure.Figure at 0x1d94bf28>"
      ]
     },
     "metadata": {},
     "output_type": "display_data"
    },
    {
     "data": {
      "image/png": "[encoded data removed]",
      "text/plain": [
       "<matplotlib.figure.Figure at 0x1e77d2b0>"
      ]
     },
     "metadata": {},
     "output_type": "display_data"
    },
    {
     "data": {
      "image/png": "[encoded data removed]",
      "text/plain": [
       "<matplotlib.figure.Figure at 0x1f2082e8>"
      ]
     },
     "metadata": {},
     "output_type": "display_data"
    }
   ],
   "source": [
    "\"\"\"Scipy KDE multivariate cdf calc\"\"\"\n",
    "for idx, ydf in filtered:\n",
    "    y = np.log10(ydf.mcountsPF.values)\n",
    "    kde = sm.nonparametric.KDEMultivariate(data=y, var_type='u')\n",
    "    f, ax = plt.subplots()\n",
    "    plt.plot(range(len(y)),kde.cdf())\n",
    "    ax.set_title(idx)"
   ]
  },
  {
   "cell_type": "code",
   "execution_count": null,
   "metadata": {
    "collapsed": true
   },
   "outputs": [],
   "source": [
    " \"\"\"DFT code is from http://stackoverflow.com/questions/20618804/\"\"\"\n",
    "\n",
    "\"\"\" [1] w = scipy.fftpack.rfft(y)\n",
    "\n",
    "    Discrete Fourier transform of a real sequence\n",
    "    rfft(x, n=None, axis=-1, overwrite_x=False); w= transformed y\n",
    "\n",
    "    returns \n",
    "    [y(0),Re(y(1)),Im(y(1)),...,Re(y(n/2))]              if n is even\n",
    "          [y(0),Re(y(1)),Im(y(1)),...,Re(y(n/2)),Im(y(n/2))]   if n is odd\n",
    "     y(j) = sum[k=0..n-1] x[k] * exp(-sqrt(-1)*j*k*2*pi/n)\n",
    "          j = 0..n-1\n",
    "\"\"\" \n",
    "\"\"\"[2] f = scipy.fftpack.rfftfreq(N, x[1]-x[0])\n",
    "        \n",
    "    DFT sample frequencies (for usage with rfft, irfft)\n",
    "    rfftfreq(n, d=1.0)\n",
    "    n = window (usually size(w))\n",
    "    d = sample space\n",
    "    returns\n",
    "    f = [0,1,1,2,2,...,n/2-1,n/2-1,n/2]/(d*n)   if n is even\n",
    "      f = [0,1,1,2,2,...,n/2-1,n/2-1,n/2,n/2]/(d*n)   if n is odd\n",
    "\n",
    "      where \n",
    "      The array of length `n`, containing the sample frequencies\n",
    "    \"\"\"\n",
    "\n",
    "\n",
    "\n",
    "\"\"\"[2] y2 = scipy.fftpack.irfft(w2)\n",
    "\n",
    "    irfft(x, n=None, axis=-1, overwrite_x=False)\n",
    "\n",
    "    Return inverse discrete Fourier transform of real sequence x.\n",
    "\n",
    "    The contents of `x` are interpreted as the output of the `rfft`\n",
    "    function\n",
    "\n",
    "    x : array_like\n",
    "        Transformed data to invert.\n",
    "    n : int, optional\n",
    "        Length of the inverse Fourier transform.\n",
    "        If n < x.shape[axis], x is truncated.\n",
    "        If n > x.shape[axis], x is zero-padded.\n",
    "        The default results in n = x.shape[axis].\n",
    "\n",
    "        fn is similar to Inverse Fournier Transformation; \n",
    "        recovers function from FT: \"statement is like if we know all\n",
    "        frequency and phase information about a wave, then we may \n",
    "        reconstruct the original wave precisely\". aka Fournier \n",
    "        integral theorem.\n",
    "\"\"\""
   ]
  }
 ],
 "metadata": {
  "anaconda-cloud": {},
  "kernelspec": {
   "display_name": "Python [Root]",
   "language": "python",
   "name": "Python [Root]"
  },
  "language_info": {
   "codemirror_mode": {
    "name": "ipython",
    "version": 2
   },
   "file_extension": ".py",
   "mimetype": "text/x-python",
   "name": "python",
   "nbconvert_exporter": "python",
   "pygments_lexer": "ipython2",
   "version": "2.7.12"
  }
 },
 "nbformat": 4,
 "nbformat_minor": 0
}
