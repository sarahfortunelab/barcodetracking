{
 "cells": [
  {
   "cell_type": "code",
   "execution_count": 1,
   "metadata": {
    "collapsed": false,
    "scrolled": false
   },
   "outputs": [],
   "source": [
    "import pandas as pd\n",
    "import numpy as np\n",
    "import regex\n",
    "import os, sys"
   ]
  },
  {
   "cell_type": "code",
   "execution_count": 2,
   "metadata": {
    "collapsed": false
   },
   "outputs": [],
   "source": [
    "\"\"\"User inputs\"\"\"\n",
    "\n",
    "\"\"\"Experiment name to name output files\"\"\"\n",
    "EXPERIMENT = \"sample\"\n",
    "\n",
    "\"\"\"Directory path to input data\"\"\"\n",
    "FILTERED_FILEPATH = \"../output/filtered-sample.csv\"\n",
    "\n",
    "\"\"\"Directory path to save output\"\"\"\n",
    "OUTPUT_DIRECTORY = \"../output\"\n",
    "# s\n",
    "\"\"\"Minimum number of reads as a baseline\n",
    "\n",
    "Used to simplify data processing. \n",
    "\"\"\"\n",
    "MIN_READS = 100\n",
    "\n",
    "# \"\"\"Groupby for multiple index defining columns\"\"\"\n",
    "# GROUPBY = ['idx']"
   ]
  },
  {
   "cell_type": "code",
   "execution_count": 3,
   "metadata": {
    "collapsed": true
   },
   "outputs": [],
   "source": [
    "MOLECS = 'mcountsPF'\n",
    "QTAG = 'qtag'\n",
    "BARCODE = 'barcode'\n",
    "INDEX = 'idx'\n",
    "READS = 'readsPF'\n",
    "PER_MOLECS = 'percent_%s'%MOLECS"
   ]
  },
  {
   "cell_type": "code",
   "execution_count": 4,
   "metadata": {
    "collapsed": true
   },
   "outputs": [],
   "source": [
    "\"\"\"Updates percent molec counters for index\"\"\"\n",
    "\n",
    "def calculate_percent_molecs(df):\n",
    "    total = float(df[MOLECS].values.sum()) / 100.\n",
    "    df[PER_MOLECS] = df[MOLECS].apply(lambda x: x/total)\n",
    "    df = df.sort_values(by=MOLECS, ascending=False)\n",
    "    return df"
   ]
  },
  {
   "cell_type": "code",
   "execution_count": 5,
   "metadata": {
    "collapsed": false
   },
   "outputs": [],
   "source": [
    "\"\"\"Loads filtered lib-ID-barcode data csv to dict of indexes\"\"\"\n",
    "\n",
    "def load_data(filtered_file):\n",
    "    columns = [INDEX, QTAG, BARCODE, MOLECS, READS]\n",
    "    \n",
    "    # loads excel file (all tabs)\n",
    "    csv = pd.read_csv(filtered_file)\n",
    "    # filter out null barcodes just in case (if custom user input)\n",
    "    csv = csv.loc[(csv[QTAG]!='None') & (csv[BARCODE]!='None')]\n",
    "    # format\n",
    "    csv = csv[columns]\n",
    "    csv[INDEX] = csv[INDEX].apply(lambda x: str(x))\n",
    "    # get percent molecs per index, store as output dict entry \n",
    "    data = {}\n",
    "    for idx, group in csv.groupby(INDEX):\n",
    "        group = calculate_percent_molecs(group.copy())\n",
    "        data[idx] = group\n",
    "    return data\n"
   ]
  },
  {
   "cell_type": "code",
   "execution_count": 6,
   "metadata": {
    "collapsed": false,
    "scrolled": false
   },
   "outputs": [],
   "source": [
    "data = load_data(FILTERED_FILEPATH)"
   ]
  },
  {
   "cell_type": "code",
   "execution_count": 12,
   "metadata": {
    "collapsed": false
   },
   "outputs": [
    {
     "data": {
      "text/plain": [
       "True"
      ]
     },
     "execution_count": 12,
     "metadata": {},
     "output_type": "execute_result"
    }
   ],
   "source": [
    "test = np.array([1,2,3])\n",
    "\n",
    "type(test) in [np.ndarray, list]"
   ]
  },
  {
   "cell_type": "code",
   "execution_count": 15,
   "metadata": {
    "collapsed": false
   },
   "outputs": [
    {
     "name": "stdout",
     "output_type": "stream",
     "text": [
      "hi\n"
     ]
    }
   ],
   "source": [
    "ddict = {'a':test, 'b':np.array([1,2])}\n",
    "if [type(v) == np.ndarray for v in ddict.values()]: print 'hi'"
   ]
  },
  {
   "cell_type": "code",
   "execution_count": 21,
   "metadata": {
    "collapsed": false
   },
   "outputs": [
    {
     "data": {
      "text/plain": [
       "[False, False]"
      ]
     },
     "execution_count": 21,
     "metadata": {},
     "output_type": "execute_result"
    }
   ],
   "source": [
    "test2 = [[1,2],[3,4]]\n",
    "[ [type(k),type(v)]==[str,np.array] for (k,v) in ddict.items() ]"
   ]
  },
  {
   "cell_type": "code",
   "execution_count": 38,
   "metadata": {
    "collapsed": true
   },
   "outputs": [],
   "source": [
    "cond_item_types = lambda arr: [ [type(i[0]),type(i[1])] == [str,pd.DataFrame] \n",
    "                           for i in arr]\n"
   ]
  },
  {
   "cell_type": "code",
   "execution_count": 37,
   "metadata": {
    "collapsed": false
   },
   "outputs": [
    {
     "data": {
      "text/plain": [
       "True"
      ]
     },
     "execution_count": 37,
     "metadata": {},
     "output_type": "execute_result"
    }
   ],
   "source": [
    "type(data.items()[0][1]) == pd.DataFrame"
   ]
  },
  {
   "cell_type": "code",
   "execution_count": 42,
   "metadata": {
    "collapsed": false
   },
   "outputs": [
    {
     "data": {
      "text/plain": [
       "[True, True, True, True]"
      ]
     },
     "execution_count": 42,
     "metadata": {},
     "output_type": "execute_result"
    }
   ],
   "source": [
    "cond_item_types(data.items())"
   ]
  },
  {
   "cell_type": "code",
   "execution_count": null,
   "metadata": {
    "collapsed": true
   },
   "outputs": [],
   "source": [
    "\n",
    "# RUN THRESHOLDING FOR ALL SAMPLES IN DICT\n",
    "def run_threshold(in_data):\n",
    "    tvals = {}\n",
    "    tis = {}\n",
    "    passed = {}\n",
    "    counter = 1\n",
    "    arr = in_data.items() if type(in_data) == dict else in_data\n",
    "    for idx, df in arr:\n",
    "        \n",
    "        msg = \"Index %d of %d (%s): \"%(counter,len(datadict),idx)\n",
    "        df = df.loc[df.molecs>50]\n",
    "        if len(df) > 0 and max(group[MOLECS].values) > MIN_READS:\n",
    "            result = threshold_group(group, 20, -1, len(group)+2)\n",
    "            if result:\n",
    "                passed[idx], tvals[idx], tis[idx] = result\n",
    "                msg += \"Thresholded.\\n\" \n",
    "            else: msg += \"Skipped.\\n\"\n",
    "        else: msg+= \"Skipped.\\n\"\n",
    "        sys.stdout.write(msg)\n",
    "        sys.stdout.flush()\n",
    "        counter += 1\n",
    "\n",
    "    try:\n",
    "        passeddf = pd.concat(passed.values())\n",
    "        passeddf.loc[:,'monkey'] = passeddf.monkey.apply(lambda x: int(x))\n",
    "#         passeddf.loc[:,'tube'] = passeddf.tube.apply(lambda x: int(x))\n",
    "        passeddf.sort_values(by=GROUP_BY+['percent_molecs'],ascending=[True,True,False,False],inplace=True)\n",
    "        passeddf.reset_index(inplace=True, drop=True)\n",
    "        passeddf.drop(['delete'], axis=1, inplace=True)\n",
    "        \n",
    "    except Exception, e:\n",
    "        print 'EXCEPTION', e\n",
    "        passeddf = passed\n",
    "    return passeddf, tvals, tis"
   ]
  },
  {
   "cell_type": "code",
   "execution_count": null,
   "metadata": {
    "collapsed": true
   },
   "outputs": [],
   "source": [
    "# \"\"\"TEST!!!!!!! WITH CHECKS\"\"\"\n",
    "\n",
    "# # RUN THRESHOLDING FOR ALL SAMPLES IN DICT\n",
    "# def run_threshold(in_data):\n",
    "    \n",
    "    \n",
    "#     c_listlike = type(in_data) in [list, np.ndarray]\n",
    "#     c_dict = type(in_data) == dict\n",
    "    \n",
    "#     # ensure there are correct number of entries in each item of list \n",
    "#     c_listitems = [len(item)==2 for item in in_data]\n",
    "    \n",
    "#     # ensure item types are valid (first val or dict key is str for idx, \n",
    "#     # second val or dict val is pd.DataFrame)\n",
    "#     if type(in_data) in [dict, list, np.ndarray]: \n",
    "#         # if dict, change to list\n",
    "#         in_data = in_data.items() if type(in_data) == dict else in_data\n",
    "#         # check valid types\n",
    "#         c_itemtypes = [[type(i), type(d)] == [str,pd.DataFrame] for [i,d] in in_data]\n",
    "#         if sum(c_itemtypes) != len(in_data):\n",
    "#             print \"Invalid data input: not item types are valid. Please use \\\n",
    "#             format [idx(str), d(pd.DataFrame)]\"\n",
    "#             sys.exit(1)\n",
    "#     # if dataframe, group into indexes\n",
    "#     elif type(in_data) == pd.DataFrame: \n",
    "#         groups = input_data.groupby('idx').groups\n",
    "#         idx_dfs = [idx, groups.get_group(idx) for idx in groups.keys()]\n",
    "    \n",
    "#     else:\n",
    "#         print \"No valid data input provided. Aborting. \"\n",
    "#         sys.exit(1)\n",
    "    \n",
    "    \n",
    "        \n",
    "    \n",
    "#     tvals = {}\n",
    "#     tis = {}\n",
    "#     passed = {}\n",
    "#     counter = 1\n",
    "    \n",
    "#     datadict = d if type(d)==type(dict()) else dict(((i,g) for i,g in d.groupby(GROUP_BY)))\n",
    "#     for idx in datadict:\n",
    "#         msg = \"Index %d of %d (%s): \"%(counter,len(datadict),idx)\n",
    "#         group = datadict[idx]\n",
    "        \n",
    "#         \"\"\"APPLY MIN READS\"\"\"\n",
    "#         group = group.loc[(group.molecs>50)]\n",
    "#         if len(group) > 0 and max(group.reads.values) > MIN_READS:\n",
    "            \n",
    "#             \"\"\"\"ACTION\"\"\"\n",
    "#             result = threshold_group(group, 20, -1, len(group)+2)\n",
    "            \n",
    "#             if result:\n",
    "#                 passed[idx], tvals[idx], tis[idx] = result\n",
    "                \n",
    "\n",
    "#         counter += 1\n",
    "\n",
    "#     try:\n",
    "#         passeddf = pd.concat(passed.values())\n",
    "#         passeddf.loc[:,'monkey'] = passeddf.monkey.apply(lambda x: int(x))\n",
    "# #         passeddf.loc[:,'tube'] = passeddf.tube.apply(lambda x: int(x))\n",
    "#         passeddf.sort_values(by=GROUP_BY+['percent_molecs'],ascending=[True,True,False,False],inplace=True)\n",
    "#         passeddf.reset_index(inplace=True, drop=True)\n",
    "#         passeddf.drop(['delete'], axis=1, inplace=True)\n",
    "        \n",
    "#     except Exception, e:\n",
    "#         print 'EXCEPTION', e\n",
    "#         passeddf = passed\n",
    "#     return passeddf, tvals, tis"
   ]
  },
  {
   "cell_type": "code",
   "execution_count": 83,
   "metadata": {
    "collapsed": true
   },
   "outputs": [],
   "source": [
    "# STEP 2: CALCULATE THRESHOLD via. CONCAVITY\n",
    "def calculate_threshold_few_complex(y):\n",
    "    \n",
    "    def rolling_window(arr):\n",
    "        shape = arr.shape[:-1] + (arr.shape[-1]-1, 2)\n",
    "        strides = arr.strides + (arr.strides[-1],)\n",
    "        windows = np.lib.stride_tricks.as_strided(arr, \n",
    "                              shape=shape, strides=strides)\n",
    "        return windows\n",
    "    \n",
    "    def first_d_gen(windows):\n",
    "        for w in windows:\n",
    "            yield float(w[1]-w[0])/w[0]\n",
    "    def second_d_gen(windows):\n",
    "        for w in windows:\n",
    "            yield w[1]-w[0]         \n",
    "    def derive(arr):\n",
    "        windows = rolling_window(y)\n",
    "        der = np.fromiter(derivative_gen(windows), \n",
    "                          np.float, count=len(windows))\n",
    "        return der\n",
    "    \n",
    "    yarray = np.concatenate([ [y[0]], y, [1] ])\n",
    "    windows_y = rolling_window(yarray)\n",
    "    first_d = np.fromiter(first_d_gen(windows_y), np.float, count=len(windows_y))\n",
    "    windows_1 = rolling_window(first_d)\n",
    "    second_d = np.fromiter(second_d_gen(windows_1), np.float, count=len(windows_1))\n",
    "    \n",
    "    return np.argmin(second_d)+1"
   ]
  },
  {
   "cell_type": "code",
   "execution_count": 7,
   "metadata": {
    "collapsed": true
   },
   "outputs": [],
   "source": [
    "# STEP 3: CLEAN BY ELIMINATING ONE-OFFS\n",
    "def eliminate_oneoffs(group, threshold, thr_i, pad=True):\n",
    "    \n",
    "    group.loc[:,'delete'] = group.molecs.apply(lambda _: False)\n",
    "    counter = 0\n",
    "    # add capability to check other parameters, i.e. qtag\n",
    "    for majorI, marow in group.loc[group.percent_molecs > threshold].iterrows():\n",
    "        majorG, majorQ, majorDel = marow[['gtag','qtag','delete']]\n",
    "        if majorDel == False:\n",
    "            motif = \"(%s){s<=1}\"%majorG\n",
    "            subgroup = group[counter+1:].loc[(group.delete==False)]\n",
    "            for minorI, mirow in subgroup.iterrows():\n",
    "                minorG = mirow['gtag']\n",
    "                query = regex.search(motif,minorG)\n",
    "                if query:\n",
    "                    group.loc[minorI,'delete'] = True\n",
    "        counter+=1\n",
    "        \n",
    "    output = group.loc[(group.delete==False)]\n",
    "    if len(group.loc[group.delete==True])> 0 and pad==True:\n",
    "        maxdelete = group.loc[group.delete==True].molecs.idxmax()\n",
    "        output = group.loc[(group.delete==False) | (group.index==maxdelete)]\n",
    "        output.loc[:,'delete'] = False    \n",
    "    return output\n",
    "            "
   ]
  },
  {
   "cell_type": "code",
   "execution_count": 82,
   "metadata": {
    "collapsed": false
   },
   "outputs": [],
   "source": [
    "# THRESHOLD A SAMPLE/INDEX/DF GROUP\n",
    "def threshold_group(group, reps_remaining, threshold, threshold_i):\n",
    "    \n",
    "    group = calculate_percent_molecs(group).reset_index(drop=True)\n",
    "    cleaned = eliminate_oneoffs(group,threshold, threshold_i)\n",
    "    \n",
    "    if threshold > 0:\n",
    "        cleaned = cleaned.loc[cleaned.percent_molecs >= threshold]\n",
    "    \n",
    "    \n",
    "    initial_thr = calculate_threshold_few_complex(cleaned.molecs.values)+1\n",
    "    thr_i = min(initial_thr, len(cleaned)-1)\n",
    "    new_threshold = group.percent_molecs.values[thr_i]\n",
    "\n",
    "    # max out reps\n",
    "    if reps_remaining <= 0:\n",
    "        print 'Maxed out reps. Skipping group.'\n",
    "        return \n",
    "\n",
    "    # if reached steady state\n",
    "    elif new_threshold == threshold:\n",
    "        prepass = cleaned.loc[cleaned.molecs >= group.molecs.values[thr_i]]\n",
    "        prepass.reset_index(drop=True, inplace=True)\n",
    "        prepass2 = eliminate_oneoffs(prepass, -1, len(prepass), pad=False)\n",
    "        prepass.reset_index(drop=True, inplace=True)\n",
    "\n",
    "        thr_i = min(calculate_threshold_few_complex(prepass2.molecs.values)+1, len(prepass2)-1)\n",
    "        threshold = prepass2.percent_molecs.values[thr_i]\n",
    "        passed = prepass2.loc[prepass2.percent_molecs >= threshold]\n",
    "        passed = calculate_percent_molecs(passed)\n",
    "        return passed, threshold, thr_i\n",
    "    \n",
    "    # recursively clean and re-threshold\n",
    "    else:\n",
    "        return threshold_group(cleaned, reps_remaining-1, new_threshold, thr_i)"
   ]
  },
  {
   "cell_type": "code",
   "execution_count": 99,
   "metadata": {
    "collapsed": true
   },
   "outputs": [],
   "source": [
    "\n",
    "# RUN THRESHOLDING FOR ALL SAMPLES IN DICT\n",
    "def run_threshold(d):\n",
    "    tvals = {}\n",
    "    tis = {}\n",
    "    passed = {}\n",
    "    counter = 1\n",
    "    \n",
    "    datadict = d if type(d)==type(dict()) else dict(((i,g) for i,g in d.groupby(GROUP_BY)))\n",
    "    for idx in datadict:\n",
    "        msg = \"Index %d of %d (%s): \"%(counter,len(datadict),idx)\n",
    "        group = datadict[idx]\n",
    "        group = group.loc[(group.qtag!='None') & (group.gtag!='None') & (group.molecs>50)]\n",
    "        if len(group) > 0 and max(group.reads.values) > MIN_READS:\n",
    "            result = threshold_group(group, 20, -1, len(group)+2)\n",
    "            if result:\n",
    "                passed[idx], tvals[idx], tis[idx] = result\n",
    "                msg += \"Thresholded.\\n\" \n",
    "            else: msg += \"Skipped.\\n\"\n",
    "        else: msg+= \"Skipped.\\n\"\n",
    "        sys.stdout.write(msg)\n",
    "        sys.stdout.flush()\n",
    "        counter += 1\n",
    "\n",
    "    try:\n",
    "        passeddf = pd.concat(passed.values())\n",
    "        passeddf.loc[:,'monkey'] = passeddf.monkey.apply(lambda x: int(x))\n",
    "#         passeddf.loc[:,'tube'] = passeddf.tube.apply(lambda x: int(x))\n",
    "        passeddf.sort_values(by=GROUP_BY+['percent_molecs'],ascending=[True,True,False,False],inplace=True)\n",
    "        passeddf.reset_index(inplace=True, drop=True)\n",
    "        passeddf.drop(['delete'], axis=1, inplace=True)\n",
    "        \n",
    "    except Exception, e:\n",
    "        print 'EXCEPTION', e\n",
    "        passeddf = passed\n",
    "    return passeddf, tvals, tis"
   ]
  },
  {
   "cell_type": "code",
   "execution_count": 100,
   "metadata": {
    "collapsed": false
   },
   "outputs": [],
   "source": [
    "data = load_data(FILTERED_FILE)"
   ]
  },
  {
   "cell_type": "code",
   "execution_count": 101,
   "metadata": {
    "collapsed": true
   },
   "outputs": [
    {
     "name": "stdout",
     "output_type": "stream",
     "text": [
      "Index 1 of 53 ((9815, 9, 720.0)): Thresholded.\n"
     ]
    },
    {
     "name": "stderr",
     "output_type": "stream",
     "text": [
      "C:\\Users\\vwl698\\Anaconda2\\lib\\site-packages\\ipykernel\\__main__.py:2: SettingWithCopyWarning: \n",
      "A value is trying to be set on a copy of a slice from a DataFrame\n",
      "\n",
      "See the caveats in the documentation: http://pandas.pydata.org/pandas-docs/stable/indexing.html#indexing-view-versus-copy\n",
      "  from ipykernel import kernelapp as app\n"
     ]
    },
    {
     "name": "stdout",
     "output_type": "stream",
     "text": [
      "Index 2 of 53 ((9615, 18, 727.0)): Thresholded.\n",
      "Index 3 of 53 ((9815, 13, 720.0)): Thresholded.\n",
      "Index 4 of 53 ((9815, 40, 720.0)): Skipped.\n",
      "Index 5 of 53 ((9615, 24, 727.0)): Thresholded.\n",
      "Index 6 of 53 ((9615, 13, 727.0)): Skipped.\n",
      "Index 7 of 53 ((9615, 6, 727.0)): Skipped.\n",
      "Index 8 of 53 ((9815, 25, 720.0)): Thresholded.\n",
      "Index 9 of 53 ((9615, 11, 727.0)): Skipped.\n",
      "Index 10 of 53 ((9615, 12, 727.0)): Skipped.\n",
      "Index 11 of 53 ((9815, 19, 720.0)): Thresholded.\n",
      "Index 12 of 53 ((9815, 33, 720.0)): Thresholded.\n",
      "Index 13 of 53 ((9815, 30, 720.0)): Thresholded.\n",
      "Index 14 of 53 ((9815, 28, 720.0)): Thresholded.\n",
      "Index 15 of 53 ((9815, 5, 720.0)): Thresholded.\n",
      "Index 16 of 53 ((9815, 23, 727.0)): Thresholded.\n",
      "Index 17 of 53 ((9615, 22, 727.0)): Skipped.\n",
      "Index 18 of 53 ((9815, 34, 727.0)): Skipped.\n",
      "Index 19 of 53 ((9615, 27, 727.0)): Skipped.\n",
      "Index 20 of 53 ((9815, 36, 720.0)): Thresholded.\n",
      "Index 21 of 53 ((17914, 'p1', 727.0)): Skipped.\n",
      "Index 22 of 53 ((9615, 1, 727.0)): Skipped.\n",
      "Index 23 of 53 ((9615, 15, 727.0)): Skipped.\n",
      "Index 24 of 53 ((9815, 24, 727.0)): Skipped.\n",
      "Index 25 of 53 ((9815, 15, 720.0)): Thresholded.\n",
      "Index 26 of 53 ((17914, 'p4', 727.0)): Skipped.\n",
      "Index 27 of 53 ((9815, 4, 720.0)): Thresholded.\n",
      "Index 28 of 53 ((9615, 17, 727.0)): Skipped.\n",
      "Index 29 of 53 ((9615, 26, 727.0)): Thresholded.\n",
      "Index 30 of 53 ((9815, 16, 720.0)): Thresholded.\n",
      "Index 31 of 53 ((9815, 31, 720.0)): Thresholded.\n",
      "Index 32 of 53 ((9615, 21, 727.0)): Skipped.\n",
      "Index 33 of 53 ((9615, 14, 727.0)): Skipped.\n",
      "Index 34 of 53 ((9815, 38, 720.0)): Thresholded.\n",
      "Index 35 of 53 ((17914, 'p5', 727.0)): Skipped.\n",
      "Index 36 of 53 ((9815, 11, 720.0)): Thresholded.\n",
      "Index 37 of 53 ((9815, 17, 727.0)): Thresholded.\n",
      "Index 38 of 53 ((9615, 16, 727.0)): Thresholded.\n",
      "Index 39 of 53 ((9815, 20, 720.0)): Thresholded.\n",
      "Index 40 of 53 ((9815, 42, 720.0)): Thresholded.\n",
      "Index 41 of 53 ((9815, 39, 720.0)): Thresholded.\n",
      "Index 42 of 53 ((9615, 9, 727.0)): Skipped.\n",
      "Index 43 of 53 ((9815, 8, 720.0)): Thresholded.\n",
      "Index 44 of 53 ((9815, 12, 720.0)): Thresholded.\n",
      "Index 45 of 53 ((9615, 19, 727.0)): Thresholded.\n",
      "Index 46 of 53 ((9815, 22, 720.0)): Thresholded.\n",
      "Index 47 of 53 ((9615, 20, 727.0)): Skipped.\n",
      "Index 48 of 53 ((9815, 35, 720.0)): Thresholded.\n",
      "Index 49 of 53 ((9615, 25, 727.0)): Skipped.\n",
      "Index 50 of 53 ((9815, 3, 727.0)): Thresholded.\n",
      "Index 51 of 53 ((9615, 2, 727.0)): Skipped.\n",
      "Index 52 of 53 ((9615, 5, 727.0)): Skipped.\n",
      "Index 53 of 53 ((17914, 'P3', 720.0)): Thresholded.\n"
     ]
    }
   ],
   "source": [
    "passed, threshold_values, threshold_i = run_threshold(data)"
   ]
  },
  {
   "cell_type": "code",
   "execution_count": 102,
   "metadata": {
    "collapsed": false
   },
   "outputs": [],
   "source": [
    "counts = passed.groupby(GROUP_BY).agg(len)['gtag']\n",
    "counts.name='barcodes'\n",
    "counts = pd.DataFrame(counts)\n",
    "counts.reset_index(inplace=True)"
   ]
  },
  {
   "cell_type": "code",
   "execution_count": 103,
   "metadata": {
    "collapsed": false
   },
   "outputs": [],
   "source": [
    "passed.loc[:,'passed_threshold'] = True"
   ]
  },
  {
   "cell_type": "code",
   "execution_count": 107,
   "metadata": {
    "collapsed": false
   },
   "outputs": [],
   "source": [
    "merged = pd.merge(data,passed,on=['monkey','tube','sample_type','qtag','gtag'], how='outer')\n",
    "merged.drop(['molecs_y','reads_y','percent_molecs'],axis=1, inplace=True)\n",
    "merged.rename(columns={'molecs_x':'molecs','reads_x':'reads'},inplace=True)\n",
    "merged.passed_threshold = merged.passed_threshold.fillna(False)"
   ]
  },
  {
   "cell_type": "code",
   "execution_count": 109,
   "metadata": {
    "collapsed": true
   },
   "outputs": [],
   "source": [
    "merged.to_csv('../output/thresholded-%s-merged.csv'%EXP_NAME)"
   ]
  },
  {
   "cell_type": "code",
   "execution_count": 110,
   "metadata": {
    "collapsed": false
   },
   "outputs": [],
   "source": [
    "pd.DataFrame(counts).to_csv('../output/thresholded-%s-counts.csv'%EXP_NAME)\n"
   ]
  },
  {
   "cell_type": "code",
   "execution_count": 111,
   "metadata": {
    "collapsed": true
   },
   "outputs": [],
   "source": [
    "passed.to_csv('../output/thresholded-%s-passed.csv'%EXP_NAME)"
   ]
  },
  {
   "cell_type": "code",
   "execution_count": 11,
   "metadata": {
    "collapsed": true
   },
   "outputs": [],
   "source": [
    "# def calculate_threshold_simple(y):\n",
    "#     yarray = np.concatenate([ [y[0]], y, [0] ])\n",
    "#     return np.argmin(np.diff(yarray,n=2))+1"
   ]
  }
 ],
 "metadata": {
  "anaconda-cloud": {},
  "kernelspec": {
   "display_name": "Python 2",
   "language": "python",
   "name": "python2"
  },
  "language_info": {
   "codemirror_mode": {
    "name": "ipython",
    "version": 2
   },
   "file_extension": ".py",
   "mimetype": "text/x-python",
   "name": "python",
   "nbconvert_exporter": "python",
   "pygments_lexer": "ipython2",
   "version": "2.7.11"
  }
 },
 "nbformat": 4,
 "nbformat_minor": 0
}
