{
 "cells": [
  {
   "cell_type": "code",
   "execution_count": 2,
   "metadata": {
    "collapsed": true
   },
   "outputs": [],
   "source": [
    "%matplotlib inline\n",
    "import pandas as pd\n",
    "import numpy as np\n"
   ]
  },
  {
   "cell_type": "markdown",
   "metadata": {},
   "source": [
    "2016-05-01\n",
    "Convert XLSX filtered file to csv for easier parsing and consistency.\n",
    "<br/>\n",
    "Here, used to convert filtered-ratio data. From 2016-05-01-rethreshold. Adapting to filter out 17213 data\n"
   ]
  },
  {
   "cell_type": "code",
   "execution_count": 1,
   "metadata": {
    "collapsed": true
   },
   "outputs": [],
   "source": [
    "XLSX_NAME = '../data/filtered-17513_17213-scrapate.xlsx'\n",
    "CSV_NAME = '../data/filtered-17513-scrapates.csv'\n",
    "col_order = ['monkey','tube','qtag','gtag','reads','molecs','sample_type']"
   ]
  },
  {
   "cell_type": "code",
   "execution_count": 3,
   "metadata": {
    "collapsed": true
   },
   "outputs": [],
   "source": [
    "datadict = pd.read_excel(XLSX_NAME, sheetname=None)"
   ]
  },
  {
   "cell_type": "code",
   "execution_count": 12,
   "metadata": {
    "collapsed": true
   },
   "outputs": [
    {
     "name": "stderr",
     "output_type": "stream",
     "text": [
      "/Users/vivianleung/anaconda/lib/python2.7/site-packages/pandas/core/indexing.py:461: SettingWithCopyWarning: \n",
      "A value is trying to be set on a copy of a slice from a DataFrame.\n",
      "Try using .loc[row_indexer,col_indexer] = value instead\n",
      "\n",
      "See the caveats in the documentation: http://pandas.pydata.org/pandas-docs/stable/indexing.html#indexing-view-versus-copy\n",
      "  self.obj[item] = s\n"
     ]
    }
   ],
   "source": [
    "newdatadict = {}\n",
    "for k in datadict.keys():\n",
    "    if k[:3]=='175':\n",
    "        df = datadict[k]\n",
    "        df = df.loc[df.qtag!='None']\n",
    "        monkey, tube = [int(i) for i in k.split(\"-\")]\n",
    "        df.loc[:,'monkey'] = monkey\n",
    "        df.loc[:,'tube'] = tube\n",
    "        df.loc[:,'sample_type'] = 'scrapate'\n",
    "        df = df[col_order]\n",
    "        newdatadict[k] = df\n",
    "datadf = pd.concat(newdatadict.values())"
   ]
  },
  {
   "cell_type": "code",
   "execution_count": 14,
   "metadata": {
    "collapsed": false
   },
   "outputs": [],
   "source": [
    "datadf.to_csv(CSV_NAME, sep='\\t')"
   ]
  },
  {
   "cell_type": "markdown",
   "metadata": {},
   "source": [
    "# fix order of filtered-reinfection_15614-scrapate_ga.csv"
   ]
  },
  {
   "cell_type": "code",
   "execution_count": 20,
   "metadata": {
    "collapsed": false
   },
   "outputs": [],
   "source": [
    "reinf_csv = pd.read_csv('../data/filtered-reinfection_15614-scrapates_ga-unordered.csv',sep='\\t').drop('Unnamed: 0', axis=1)\n",
    "reinf_csv = reinf_csv[col_order]"
   ]
  },
  {
   "cell_type": "code",
   "execution_count": 21,
   "metadata": {
    "collapsed": false
   },
   "outputs": [],
   "source": [
    "reinf_csv.to_csv('../data/filtered-reinfection_15614-scrapates_ga.csv')"
   ]
  }
 ],
 "metadata": {
  "kernelspec": {
   "display_name": "Python 2",
   "language": "python",
   "name": "python2"
  },
  "language_info": {
   "codemirror_mode": {
    "name": "ipython",
    "version": 2
   },
   "file_extension": ".py",
   "mimetype": "text/x-python",
   "name": "python",
   "nbconvert_exporter": "python",
   "pygments_lexer": "ipython2",
   "version": "2.7.10"
  }
 },
 "nbformat": 4,
 "nbformat_minor": 0
}
