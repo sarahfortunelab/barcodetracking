{
 "cells": [
  {
   "cell_type": "markdown",
   "metadata": {},
   "source": [
    "2016-05-01\n",
    "Convert XLSX filtered file to csv for easier parsing and consistency.\n",
    "<br/>\n",
    "Here, used to convert filtered-ratio data. From 2016-05-01-rethreshold. Adapting to filter out 17213 data\n"
   ]
  },
  {
   "cell_type": "code",
   "execution_count": 4,
   "metadata": {
    "collapsed": true
   },
   "outputs": [],
   "source": [
    "XLSX_NAME = '../data/filtered-example.xlsx'\n",
    "CSV_NAME = '../data/filtered-example.csv'\n",
    "col_order = ['monkey','tube','qtag','gtag','reads','molecs','sample_type']\n",
    "info_names = ['monkey','tube','sample_type']\n",
    "constant_properties = ['scrapate']\n"
   ]
  },
  {
   "cell_type": "code",
   "execution_count": 5,
   "metadata": {
    "collapsed": false
   },
   "outputs": [],
   "source": [
    "datadict = pd.read_excel(XLSX_NAME, sheetname=None)"
   ]
  },
  {
   "cell_type": "code",
   "execution_count": 9,
   "metadata": {
    "collapsed": false,
    "scrolled": true
   },
   "outputs": [
    {
     "ename": "ValueError",
     "evalue": "invalid literal for int() with base 10: 'BALGA'",
     "output_type": "error",
     "traceback": [
      "\u001b[0;31m---------------------------------------------------------------------------\u001b[0m",
      "\u001b[0;31mValueError\u001b[0m                                Traceback (most recent call last)",
      "\u001b[0;32m<ipython-input-9-398901eaf463>\u001b[0m in \u001b[0;36m<module>\u001b[0;34m()\u001b[0m\n\u001b[1;32m      3\u001b[0m     \u001b[0mdf\u001b[0m \u001b[0;34m=\u001b[0m \u001b[0mdatadict\u001b[0m\u001b[0;34m[\u001b[0m\u001b[0mk\u001b[0m\u001b[0;34m]\u001b[0m\u001b[0;34m\u001b[0m\u001b[0m\n\u001b[1;32m      4\u001b[0m     \u001b[0mdf\u001b[0m \u001b[0;34m=\u001b[0m \u001b[0mdf\u001b[0m\u001b[0;34m.\u001b[0m\u001b[0mloc\u001b[0m\u001b[0;34m[\u001b[0m\u001b[0mdf\u001b[0m\u001b[0;34m.\u001b[0m\u001b[0mqtag\u001b[0m\u001b[0;34m!=\u001b[0m\u001b[0;34m'None'\u001b[0m\u001b[0;34m]\u001b[0m\u001b[0;34m\u001b[0m\u001b[0m\n\u001b[0;32m----> 5\u001b[0;31m     \u001b[0mmonkey\u001b[0m\u001b[0;34m,\u001b[0m \u001b[0mtube\u001b[0m \u001b[0;34m=\u001b[0m \u001b[0;34m[\u001b[0m\u001b[0mint\u001b[0m\u001b[0;34m(\u001b[0m\u001b[0mi\u001b[0m\u001b[0;34m)\u001b[0m \u001b[0;32mfor\u001b[0m \u001b[0mi\u001b[0m \u001b[0;32min\u001b[0m \u001b[0mk\u001b[0m\u001b[0;34m.\u001b[0m\u001b[0msplit\u001b[0m\u001b[0;34m(\u001b[0m\u001b[0;34m\"-\"\u001b[0m\u001b[0;34m)\u001b[0m\u001b[0;34m[\u001b[0m\u001b[0;34m:\u001b[0m\u001b[0;36m2\u001b[0m\u001b[0;34m]\u001b[0m\u001b[0;34m]\u001b[0m\u001b[0;34m\u001b[0m\u001b[0m\n\u001b[0m\u001b[1;32m      6\u001b[0m     \u001b[0mdf\u001b[0m\u001b[0;34m.\u001b[0m\u001b[0mloc\u001b[0m\u001b[0;34m[\u001b[0m\u001b[0;34m:\u001b[0m\u001b[0;34m,\u001b[0m\u001b[0;34m'monkey'\u001b[0m\u001b[0;34m]\u001b[0m \u001b[0;34m=\u001b[0m \u001b[0mmonkey\u001b[0m\u001b[0;34m\u001b[0m\u001b[0m\n\u001b[1;32m      7\u001b[0m     \u001b[0mdf\u001b[0m\u001b[0;34m.\u001b[0m\u001b[0mloc\u001b[0m\u001b[0;34m[\u001b[0m\u001b[0;34m:\u001b[0m\u001b[0;34m,\u001b[0m\u001b[0;34m'tube'\u001b[0m\u001b[0;34m]\u001b[0m \u001b[0;34m=\u001b[0m \u001b[0mtube\u001b[0m\u001b[0;34m\u001b[0m\u001b[0m\n",
      "\u001b[0;31mValueError\u001b[0m: invalid literal for int() with base 10: 'BALGA'"
     ]
    }
   ],
   "source": [
    "newdata = []\n",
    "for k in datadict.keys():\n",
    "    df = datadict[k]\n",
    "    df = df.loc[df.qtag!='None']\n",
    "    \n",
    "    info = k.split(\"-\")\n",
    "    for i in range(len(info)):\n",
    "        try:\n",
    "            info[i] = int(info[i])\n",
    "        except:\n",
    "            pass\n",
    "    # custom\n",
    "    info += constant_properties\n",
    "    \n",
    "    try:          \n",
    "        for col, val in zip(info_names, info):\n",
    "            df.loc[:,col] = val\n",
    "        try:\n",
    "            if len(col_order) < len(df.columns):\n",
    "                print \"Warning: columns will be dropped\"\n",
    "            df = df[col_order]\n",
    "            newdatadict.append(df)\n",
    "            \n",
    "        except KeyError as e:\n",
    "            if len(col_order) > len(df.columns):\n",
    "                print \"Too many columns specified.\"\n",
    "            else:\n",
    "                print \"A column key is not in dataframe.\"\n",
    "            print e\n",
    "            raise\n",
    "    datadf = pd.concat(newdatadict.values())\n",
    "    \n",
    "    except IndexError as e: \n",
    "        print 'Property names do not match property values.'\n",
    "        print e\n",
    "        raise\n",
    "    \n",
    "    \n"
   ]
  },
  {
   "cell_type": "code",
   "execution_count": 23,
   "metadata": {
    "collapsed": false
   },
   "outputs": [],
   "source": [
    "datadf.to_csv(CSV_NAME)"
   ]
  },
  {
   "cell_type": "markdown",
   "metadata": {},
   "source": [
    "# fix order of filtered-reinfection_15614-scrapate_ga.csv"
   ]
  }
 ],
 "metadata": {
  "anaconda-cloud": {},
  "kernelspec": {
   "display_name": "Python [Root]",
   "language": "python",
   "name": "Python [Root]"
  },
  "language_info": {
   "codemirror_mode": {
    "name": "ipython",
    "version": 2
   },
   "file_extension": ".py",
   "mimetype": "text/x-python",
   "name": "python",
   "nbconvert_exporter": "python",
   "pygments_lexer": "ipython2",
   "version": "2.7.12"
  }
 },
 "nbformat": 4,
 "nbformat_minor": 0
}
