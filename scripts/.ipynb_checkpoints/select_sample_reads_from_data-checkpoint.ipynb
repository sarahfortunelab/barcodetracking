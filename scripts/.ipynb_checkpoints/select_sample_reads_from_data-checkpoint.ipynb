{
 "cells": [
  {
   "cell_type": "code",
   "execution_count": 2,
   "metadata": {
    "collapsed": false
   },
   "outputs": [],
   "source": [
    "# NO QTAG ERRORS ALLOWED\n",
    "\n",
    "\"\"\"\n",
    "updated 2016-01-22 for csv mice, includes filtering\n",
    "\"\"\"\n",
    "import numpy as np\n",
    "import pandas as pd\n",
    "import regex\n",
    "import os\n",
    "import sys\n",
    "import gzip\n",
    "from itertools import izip\n",
    "import sqlalchemy as sqla\n",
    "# import ipcluster as ipp"
   ]
  },
  {
   "cell_type": "code",
   "execution_count": 3,
   "metadata": {
    "collapsed": true
   },
   "outputs": [],
   "source": [
    "EXPERIMENT = \"2016-08-04-nates1\"\n",
    "INPUT_DIRECTORIES = [\"../data/nate\"]\n",
    "OUTPUT_DIR = \"../data/sample\"\n",
    "QTAG_CSV = \"../helpers/qtags_var.csv\"\n",
    "\n",
    "GTAG_MOTIF = \"CGA([ACTG]{3})C([ACTG]{4})AATTCGATGG\"\n",
    "MCOUNT_MOTIF = \"C([ACTG]{3})C([ACTG]{3})C([ACTG]{3})GCGCAACGCG\"\n",
    "INDEX_MOTIF = \"(.+)_S\\d{1,3}_L\\d{3}_R(\\d)_\\d{3}\\.fastq\\.gz\"\n"
   ]
  },
  {
   "cell_type": "code",
   "execution_count": 7,
   "metadata": {
    "collapsed": false,
    "scrolled": true
   },
   "outputs": [
    {
     "name": "stdout",
     "output_type": "stream",
     "text": [
      "NH001_S1_L001_I1_001.fastq.gz\n",
      "NH001_S1_L001_I2_001.fastq.gz\n",
      "NH001_S1_L001_R1_001.fastq.gz\n",
      "NH001_S1_L001_R2_001.fastq.gz\n",
      "NH002_S2_L001_I1_001.fastq.gz\n",
      "NH002_S2_L001_I2_001.fastq.gz\n",
      "NH002_S2_L001_R1_001.fastq.gz\n",
      "NH002_S2_L001_R2_001.fastq.gz\n",
      "NH003_S3_L001_I1_001.fastq.gz\n",
      "NH003_S3_L001_I2_001.fastq.gz\n",
      "NH003_S3_L001_R1_001.fastq.gz\n",
      "NH003_S3_L001_R2_001.fastq.gz\n",
      "NH004_S4_L001_I1_001.fastq.gz\n",
      "NH004_S4_L001_I2_001.fastq.gz\n",
      "NH004_S4_L001_R1_001.fastq.gz\n",
      "NH004_S4_L001_R2_001.fastq.gz\n",
      "NH005_S5_L001_I1_001.fastq.gz\n",
      "NH005_S5_L001_I2_001.fastq.gz\n",
      "NH005_S5_L001_R1_001.fastq.gz\n",
      "NH005_S5_L001_R2_001.fastq.gz\n",
      "NH006_S6_L001_I1_001.fastq.gz\n",
      "NH006_S6_L001_I2_001.fastq.gz\n",
      "NH006_S6_L001_R1_001.fastq.gz\n",
      "NH006_S6_L001_R2_001.fastq.gz\n",
      "NH007_S7_L001_I1_001.fastq.gz\n",
      "NH007_S7_L001_I2_001.fastq.gz\n",
      "NH007_S7_L001_R1_001.fastq.gz\n",
      "NH007_S7_L001_R2_001.fastq.gz\n",
      "NH008_S8_L001_I1_001.fastq.gz\n",
      "NH008_S8_L001_I2_001.fastq.gz\n",
      "NH008_S8_L001_R1_001.fastq.gz\n",
      "NH008_S8_L001_R2_001.fastq.gz\n",
      "NH009_S9_L001_I1_001.fastq.gz\n",
      "NH009_S9_L001_I2_001.fastq.gz\n",
      "NH009_S9_L001_R1_001.fastq.gz\n",
      "NH009_S9_L001_R2_001.fastq.gz\n",
      "NH010_S10_L001_I1_001.fastq.gz\n",
      "NH010_S10_L001_I2_001.fastq.gz\n",
      "NH010_S10_L001_R1_001.fastq.gz\n",
      "NH010_S10_L001_R2_001.fastq.gz\n",
      "NH025_S11_L001_I1_001.fastq.gz\n",
      "NH025_S11_L001_I2_001.fastq.gz\n",
      "NH025_S11_L001_R1_001.fastq.gz\n",
      "NH025_S11_L001_R2_001.fastq.gz\n",
      "NH075_S12_L001_I1_001.fastq.gz\n",
      "NH075_S12_L001_I2_001.fastq.gz\n",
      "NH075_S12_L001_R1_001.fastq.gz\n",
      "NH075_S12_L001_R2_001.fastq.gz\n",
      "NH096_S13_L001_I1_001.fastq.gz\n",
      "NH096_S13_L001_I2_001.fastq.gz\n",
      "NH096_S13_L001_R1_001.fastq.gz\n",
      "NH096_S13_L001_R2_001.fastq.gz\n",
      "NH120_S14_L001_I1_001.fastq.gz\n",
      "NH120_S14_L001_I2_001.fastq.gz\n",
      "NH120_S14_L001_R1_001.fastq.gz\n",
      "NH120_S14_L001_R2_001.fastq.gz\n",
      "NH125_S15_L001_I1_001.fastq.gz\n",
      "NH125_S15_L001_I2_001.fastq.gz\n",
      "NH125_S15_L001_R1_001.fastq.gz\n",
      "NH125_S15_L001_R2_001.fastq.gz\n",
      "NH144_S16_L001_I1_001.fastq.gz\n",
      "NH144_S16_L001_I2_001.fastq.gz\n",
      "NH144_S16_L001_R1_001.fastq.gz\n",
      "NH144_S16_L001_R2_001.fastq.gz\n"
     ]
    }
   ],
   "source": [
    "test_directory = INPUT_DIRECTORIES[0]\n",
    "if os.path.isdir(test_directory):\n",
    "    for directory, sub, files in os.walk(test_directory):\n",
    "        for f in files:\n",
    "            print f\n"
   ]
  },
  {
   "cell_type": "code",
   "execution_count": 9,
   "metadata": {
    "collapsed": true
   },
   "outputs": [],
   "source": [
    "def load_qtags(qtag_csv):\n",
    "    try:\n",
    "        lookup = pd.DataFrame.from_csv(qtag_csv)\n",
    "    except Exception, e:\n",
    "        print \"Cannot load qtag file at %s.\\nAborting with Exception: %s.\"%(qtag_csv,e)\n",
    "    else:\n",
    "        lookup.index.name = 'qid'\n",
    "        lookup.columns = ['seq']\n",
    "        lookup.seq = lookup.seq.str.upper()\n",
    "        lookup.reset_index(inplace=True)\n",
    "        lookup.set_index('seq',inplace=True)\n",
    "        lookup.qid = lookup.qid.apply(lambda x: 'q'+str(x))\n",
    "        return lookup       "
   ]
  },
  {
   "cell_type": "code",
   "execution_count": 10,
   "metadata": {
    "collapsed": true
   },
   "outputs": [],
   "source": [
    "def make_rexs(gtag_motif, mcount_motif, qtags):\n",
    "    qtag_motif = \"|\".join(['(?P<%s>%s)'%(q.qid,seq) for seq,q in qtags.iterrows()])\n",
    "    qtag_regex = regex.compile(qtag_motif, flags=regex.I)\n",
    "    gtag_regex = regex.compile(gtag_motif, flags=regex.I)\n",
    "    mcount_regex = regex.compile(mcount_motif, flags=regex.I)\n",
    "    return {'q':qtag_regex,'g':gtag_regex,'m':mcount_regex}"
   ]
  },
  {
   "cell_type": "code",
   "execution_count": 15,
   "metadata": {
    "collapsed": false
   },
   "outputs": [],
   "source": [
    "def init_indexes(root, rexs):\n",
    "    indexes = {}\n",
    "    if os.path.isdir(root):\n",
    "        for directory, sub, files in os.walk(root):\n",
    "            for f in files:\n",
    "                term = regex.search(INDEX_MOTIF, f)\n",
    "                if term and term[0]!='Undetermined':\n",
    "                    idx, read = term.groups()\n",
    "                    indexes.setdefault(idx, [\"\",\"\"])\n",
    "                    indexes[idx][int(read)-1] = directory+\"/\"+f\n",
    "    return indexes"
   ]
  },
  {
   "cell_type": "code",
   "execution_count": 17,
   "metadata": {
    "collapsed": false
   },
   "outputs": [],
   "source": [
    "test_dir = INPUT_DIRECTORIES[0]\n",
    "\n",
    "QTAGS = load_qtags(QTAG_CSV)\n",
    "REXS = make_rexs(GTAG_MOTIF, MCOUNT_MOTIF, QTAGS)\n",
    "indexes = init_indexes(test_dir, REXS)"
   ]
  },
  {
   "cell_type": "code",
   "execution_count": 102,
   "metadata": {
    "collapsed": false
   },
   "outputs": [],
   "source": [
    "'''What this script actually does\n",
    "\n",
    "opens input and output files (single files, not by paired for performance)\n",
    "writes input line to output\n",
    "closes \n",
    "\n",
    "'''\n",
    "reads = 10\n",
    "def write_sample_fastq(idx, reads_to_write):\n",
    "    \n",
    "    lines_to_write = 4*reads_to_write\n",
    "    \n",
    "    for input_fpath in indexes[idx]:\n",
    "        file_root = input_fpath.split(\"/\")[-1].split(\".\")[0]\n",
    "        out_fpath = '%s/sample_%s'%(OUTPUT_DIR, file_root)\n",
    "\n",
    "        i = 0\n",
    "        # reinitialize output file\n",
    "\n",
    "        # for .fastq.gz file\n",
    "        gz = \"%s.fastq.gz\"%out_fpath\n",
    "        txt = \"%s.txt\"%out_fpath\n",
    "        gzip.open(gz,'wb').close()\n",
    "        open(txt,'wb').close()\n",
    "        \n",
    "        in_gz = gzip.open(input_file0,'rb')\n",
    "        out_txt = open(txt, 'a')\n",
    "        out_gz = gzip.open(gz, 'a')\n",
    "        with in_gz as f_in, out_gz as f_out_gz, out_txt as f_out_txt:\n",
    "            for line in f_in:\n",
    "                if i < lines_to_write: \n",
    "                    out_txt.write(line)\n",
    "                    out_gz.write(line)\n",
    "                else: break\n",
    "                i+=1\n",
    "    \n",
    "    \n",
    "    "
   ]
  },
  {
   "cell_type": "code",
   "execution_count": 103,
   "metadata": {
    "collapsed": false
   },
   "outputs": [],
   "source": [
    "write_sample_fastq(test_index, reads)"
   ]
  }
 ],
 "metadata": {
  "kernelspec": {
   "display_name": "Python 2",
   "language": "python",
   "name": "python2"
  },
  "language_info": {
   "codemirror_mode": {
    "name": "ipython",
    "version": 2
   },
   "file_extension": ".py",
   "mimetype": "text/x-python",
   "name": "python",
   "nbconvert_exporter": "python",
   "pygments_lexer": "ipython2",
   "version": "2.7.11"
  }
 },
 "nbformat": 4,
 "nbformat_minor": 0
}
