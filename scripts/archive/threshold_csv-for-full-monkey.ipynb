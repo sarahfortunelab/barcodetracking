{
 "cells": [
  {
   "cell_type": "markdown",
   "metadata": {
    "collapsed": true
   },
   "source": [
    "## NOTES\n",
    "**V1**\n",
    "solved ratio +/-1 issues; except for test 18...\n",
    "<br/>\n",
    "making a copy to preserve this version\n",
    "<br/>\n",
    "**V2**\n",
    "DOUBLES ARE SENSITIVE; adjust for triples/multi to recognize low abundance barcodes in more complex samples\n",
    "<br/>\n",
    "making copy (v3) to preserve this version\n",
    "<br/>\n",
    "**V3**\n",
    "MULTI WORKS ( added cutoff for previous threshold before calc new thr, post clean)\n",
    "<br/>\n",
    "making a copy (v4) to clean up version \n",
    "### V4 (this version)\n",
    "2016-05-01:  from 2016-04-12-ratio_thresholding, renamed from threshold_new_20160412-v4.ipynb"
   ]
  },
  {
   "cell_type": "code",
   "execution_count": 53,
   "metadata": {
    "collapsed": false,
    "scrolled": false
   },
   "outputs": [],
   "source": [
    "import pandas as pd\n",
    "import numpy as np\n",
    "import regex\n",
    "import os, sys\n"
   ]
  },
  {
   "cell_type": "code",
   "execution_count": 54,
   "metadata": {
    "collapsed": true
   },
   "outputs": [],
   "source": [
    "FILTERED_FILE = '../data/filtered-allmonkeys-scrapate_ga.csv'\n",
    "MIN_READS = 1000\n",
    "GROUP_BY = ['monkey','tube','sample_type']"
   ]
  },
  {
   "cell_type": "code",
   "execution_count": 55,
   "metadata": {
    "collapsed": true
   },
   "outputs": [],
   "source": [
    "def calculate_percent_molecs(df):\n",
    "    total = float(df.molecs.values.sum()) / 100.\n",
    "    df.loc[:,'percent_molecs'] = df.molecs.apply(lambda x: x/total)\n",
    "    df.reset_index(inplace=True,drop=True)\n",
    "    return df"
   ]
  },
  {
   "cell_type": "code",
   "execution_count": 56,
   "metadata": {
    "collapsed": true
   },
   "outputs": [],
   "source": [
    "def load_data(filtered_file):\n",
    "    # loads excel file (all tabs)\n",
    "    data = pd.read_csv(filtered_file)\n",
    "    data.reset_index(inplace=True,drop=True)\n",
    "    \n",
    "    # clean up no qtags, adds per_molecs column\n",
    "    data = data.loc[data.qtag!='None']\n",
    "    data = data.groupby(['monkey','tube','sample_type']).apply(calculate_percent_molecs)\n",
    "    \n",
    "    # formatting\n",
    "    columns = ['monkey','tube','qtag','gtag','molecs','reads','sample_type']\n",
    "    data = data[columns]\n",
    "    data.sort_values(by=['monkey','tube','sample_type','molecs'], inplace=True, ascending=[True,True,False,False])\n",
    "    data.reset_index(inplace=True,drop=True)\n",
    "    data.loc[:,'monkey'] = data.monkey.apply(lambda x: int(x))\n",
    "    data.loc[:,'tube'] = data.tube.apply(lambda x: x if x[:1]=='n' else int(x))\n",
    "    return data\n"
   ]
  },
  {
   "cell_type": "code",
   "execution_count": 57,
   "metadata": {
    "collapsed": true
   },
   "outputs": [],
   "source": [
    "def calculate_threshold_simple(y):\n",
    "    yarray = np.concatenate([ [y[0]], y, [0] ])\n",
    "    return np.argmin(np.diff(yarray,n=2))+1"
   ]
  },
  {
   "cell_type": "code",
   "execution_count": 58,
   "metadata": {
    "collapsed": true
   },
   "outputs": [],
   "source": [
    "# STEP 2: CALCULATE THRESHOLD via. CONCAVITY\n",
    "def calculate_threshold_few_complex(y):\n",
    "    \n",
    "    def rolling_window(arr):\n",
    "        shape = arr.shape[:-1] + (arr.shape[-1]-1, 2)\n",
    "        strides = arr.strides + (arr.strides[-1],)\n",
    "        windows = np.lib.stride_tricks.as_strided(arr, \n",
    "                              shape=shape, strides=strides)\n",
    "        return windows\n",
    "    \n",
    "    def first_d_gen(windows):\n",
    "        for w in windows:\n",
    "            yield float(w[1]-w[0])/w[0]\n",
    "    def second_d_gen(windows):\n",
    "        for w in windows:\n",
    "            yield w[1]-w[0]         \n",
    "    def derive(arr):\n",
    "        windows = rolling_window(y)\n",
    "        der = np.fromiter(derivative_gen(windows), \n",
    "                          np.float, count=len(windows))\n",
    "        return der\n",
    "    \n",
    "    yarray = np.concatenate([ [y[0]], y, [1] ])\n",
    "    windows_y = rolling_window(yarray)\n",
    "    first_d = np.fromiter(first_d_gen(windows_y), np.float, count=len(windows_y))\n",
    "    windows_1 = rolling_window(first_d)\n",
    "    second_d = np.fromiter(second_d_gen(windows_1), np.float, count=len(windows_1))\n",
    "    \n",
    "    return np.argmin(second_d)+1"
   ]
  },
  {
   "cell_type": "code",
   "execution_count": 59,
   "metadata": {
    "collapsed": true
   },
   "outputs": [],
   "source": [
    "# STEP 3: CLEAN BY ELIMINATING ONE-OFFS\n",
    "def eliminate_oneoffs(group, threshold, thr_i, pad=True):\n",
    "    \n",
    "    group.loc[:,'delete'] = group.molecs.apply(lambda _: False)\n",
    "    counter = 0\n",
    "    # add capability to check other parameters, i.e. qtag\n",
    "    for majorI, marow in group.loc[group.percent_molecs > threshold].iterrows():\n",
    "        majorG, majorQ, majorDel = marow[['gtag','qtag','delete']]\n",
    "        if majorDel == False:\n",
    "            motif = \"(%s){s<=1}\"%majorG\n",
    "            subgroup = group[counter+1:].loc[(group.delete==False)]\n",
    "            for minorI, mirow in subgroup.iterrows():\n",
    "                minorG = mirow['gtag']\n",
    "                query = regex.search(motif,minorG)\n",
    "                if query:\n",
    "                    group.loc[minorI,'delete'] = True\n",
    "        counter+=1\n",
    "        \n",
    "    output = group.loc[(group.delete==False)]\n",
    "    if len(group.loc[group.delete==True])> 0 and pad==True:\n",
    "        maxdelete = group.loc[group.delete==True].molecs.idxmax()\n",
    "        output = group.loc[(group.delete==False) | (group.index==maxdelete)]\n",
    "        output.loc[:,'delete'] = False    \n",
    "    return output\n",
    "            "
   ]
  },
  {
   "cell_type": "code",
   "execution_count": 60,
   "metadata": {
    "collapsed": false
   },
   "outputs": [],
   "source": [
    "# THRESHOLD A SAMPLE/INDEX/DF GROUP\n",
    "def threshold_group(group, reps_remaining, threshold, threshold_i):\n",
    "    \n",
    "    group = calculate_percent_molecs(group).reset_index(drop=True)\n",
    "    cleaned = eliminate_oneoffs(group,threshold, threshold_i)\n",
    "    \n",
    "    if threshold > 0:\n",
    "        cleaned = cleaned.loc[cleaned.percent_molecs >= threshold]\n",
    "    \n",
    "    \n",
    "    initial_thr = calculate_threshold_few_complex(cleaned.molecs.values)+1\n",
    "    thr_i = min(initial_thr, len(cleaned)-1)\n",
    "    new_threshold = group.percent_molecs.values[thr_i]\n",
    "\n",
    "    # max out reps\n",
    "    if reps_remaining <= 0:\n",
    "        print 'Maxed out reps. Skipping group.'\n",
    "        return \n",
    "\n",
    "    # if reached steady state\n",
    "    elif new_threshold == threshold:\n",
    "        prepass = cleaned.loc[cleaned.molecs >= group.molecs.values[thr_i]]\n",
    "        prepass.reset_index(drop=True, inplace=True)\n",
    "        prepass2 = eliminate_oneoffs(prepass, -1, len(prepass), pad=False)\n",
    "        prepass.reset_index(drop=True, inplace=True)\n",
    "\n",
    "        thr_i = min(calculate_threshold_few_complex(prepass2.molecs.values)+1, len(prepass2)-1)\n",
    "        threshold = prepass2.percent_molecs.values[thr_i]\n",
    "        passed = prepass2.loc[prepass2.percent_molecs >= threshold]\n",
    "        passed = calculate_percent_molecs(passed)\n",
    "        return passed, threshold, thr_i\n",
    "    \n",
    "    # recursively clean and re-threshold\n",
    "    else:\n",
    "        return threshold_group(cleaned, reps_remaining-1, new_threshold, thr_i)"
   ]
  },
  {
   "cell_type": "code",
   "execution_count": 61,
   "metadata": {
    "collapsed": true
   },
   "outputs": [],
   "source": [
    "\n",
    "# RUN THRESHOLDING FOR ALL SAMPLES IN DICT\n",
    "def run_threshold(d):\n",
    "    tvals = {}\n",
    "    tis = {}\n",
    "    passed = {}\n",
    "    counter = 1\n",
    "    \n",
    "    datadict = d if type(d)==type(dict()) else dict(((i,g) for i,g in d.groupby(GROUP_BY)))\n",
    "    for idx in datadict:\n",
    "        msg = \"Index %d of %d (%s): \"%(counter,len(datadict),idx)\n",
    "        group = datadict[idx]\n",
    "        group = group.loc[(group.qtag!='None') & (group.gtag!='None')]\n",
    "        if len(group) > 0 and max(group.reads.values) > MIN_READS:\n",
    "            result = threshold_group(group, 20, -1, len(group)+2)\n",
    "            if result:\n",
    "                passed[idx], tvals[idx], tis[idx] = result\n",
    "                msg += \"Thresholded.\\n\" \n",
    "            else: msg += \"Skipped.\\n\"\n",
    "        else: msg+= \"Skipped.\\n\"\n",
    "        sys.stdout.write(msg)\n",
    "        sys.stdout.flush()\n",
    "        counter += 1\n",
    "\n",
    "    try:\n",
    "        passeddf = pd.concat(passed.values())\n",
    "        passeddf.loc[:,'monkey'] = passeddf.monkey.apply(lambda x: int(x))\n",
    "        passeddf.loc[:,'tube'] = passeddf.tube.apply(lambda x: int(x))\n",
    "        passeddf.sort_values(by=GROUP_BY+['percent_molecs'],ascending=[True,True,False,False],inplace=True)\n",
    "        passeddf.reset_index(inplace=True, drop=True)\n",
    "        passeddf.drop(['delete'], axis=1, inplace=True)\n",
    "        \n",
    "    except Exception, e:\n",
    "        print 'EXCEPTION', e\n",
    "        passeddf = passed\n",
    "    return passeddf, tvals, tis"
   ]
  },
  {
   "cell_type": "code",
   "execution_count": 62,
   "metadata": {
    "collapsed": false
   },
   "outputs": [],
   "source": [
    "data = load_data(FILTERED_FILE)"
   ]
  },
  {
   "cell_type": "code",
   "execution_count": 63,
   "metadata": {
    "collapsed": true
   },
   "outputs": [
    {
     "name": "stdout",
     "output_type": "stream",
     "text": [
      "Index 1 of 155 ((18014, 12, 'scrapate')): Thresholded.\n",
      "Index 2 of 155 ((17513, 11, 'scrapate')): Thresholded.\n",
      "Index 3 of 155 ((18014, 24, 'scrapate')): Thresholded.\n",
      "Index 4 of 155 ((17814, 10, 'scrapate')): Thresholded.\n",
      "Index 5 of 155 ((18114, 11, 'scrapate')): Thresholded.\n",
      "Index 6 of 155 ((17914, 8, 'scrapate')): Thresholded.\n",
      "Index 7 of 155 ((18014, 9, 'scrapate')): Thresholded.\n",
      "Index 8 of 155 ((15614, 3, 'scrapate')): Thresholded.\n",
      "Index 9 of 155 ((18014, 1, 'ga')): Thresholded.\n",
      "Index 10 of 155 ((18014, 21, 'scrapate')): Thresholded.\n",
      "Index 11 of 155 ((18014, 6, 'scrapate')): Thresholded.\n",
      "Index 12 of 155 ((18114, 1, 'scrapate')): Thresholded.\n",
      "Index 13 of 155 ((15614, 10, 'scrapate')): Thresholded.\n",
      "Index 14 of 155 ((18114, 18, 'scrapate')): Thresholded.\n",
      "Index 15 of 155 ((18014, 18, 'scrapate')): Thresholded.\n",
      "Index 16 of 155 ((15614, 9, 'scrapate')): Thresholded.\n",
      "Index 17 of 155 ((15614, 22, 'scrapate')): Skipped.\n",
      "Index 18 of 155 ((17814, 24, 'scrapate')): Thresholded.\n",
      "Index 19 of 155 ((18114, 6, 'scrapate')): Thresholded.\n",
      "Index 20 of 155 ((15614, 21, 'scrapate')): Thresholded.\n",
      "Index 21 of 155 ((17814, 31, 'scrapate')): Skipped.\n",
      "Index 22 of 155 ((17513, 10, 'scrapate')): Thresholded.\n",
      "Index 23 of 155 ((17814, 22, 'scrapate')): Thresholded.\n",
      "Index 24 of 155 ((17814, 11, 'scrapate')): Thresholded.\n",
      "Index 25 of 155 ((15614, 18, 'scrapate')): Thresholded.\n",
      "Index 26 of 155 ((17513, 1, 'scrapate')): Skipped.\n",
      "Index 27 of 155 ((17814, 21, 'scrapate')): Thresholded.\n",
      "Index 28 of 155 ((17814, 2, 'scrapate')): Thresholded.\n",
      "Index 29 of 155 ((18014, 7, 'scrapate')): Thresholded.\n",
      "Index 30 of 155 ((17814, 1, 'scrapate')): Thresholded.\n",
      "Index 31 of 155 ((18114, 19, 'scrapate')): Thresholded.\n",
      "Index 32 of 155 ((17513, 15, 'scrapate')): Thresholded.\n",
      "Index 33 of 155 ((18014, 19, 'scrapate')): Thresholded.\n",
      "Index 34 of 155 ((18014, 28, 'scrapate')): Thresholded.\n",
      "Index 35 of 155 ((18114, 7, 'scrapate')): Thresholded.\n",
      "Index 36 of 155 ((18014, 13, 'scrapate')): Thresholded.\n",
      "Index 37 of 155 ((15614, 7, 'scrapate')): Thresholded.\n",
      "Index 38 of 155 ((18014, 25, 'scrapate')): Thresholded.\n",
      "Index 39 of 155 ((18114, 12, 'scrapate')): Thresholded.\n",
      "Index 40 of 155 ((18014, 10, 'scrapate')): Thresholded.\n",
      "Index 41 of 155 ((15614, 14, 'scrapate')): Thresholded.\n",
      "Index 42 of 155 ((17914, 7, 'scrapate')): Thresholded.\n",
      "Index 43 of 155 ((17814, 32, 'scrapate')): Thresholded.\n",
      "Index 44 of 155 ((18014, 22, 'scrapate')): Thresholded.\n",
      "Index 45 of 155 ((15614, 13, 'scrapate')): Thresholded.\n",
      "Index 46 of 155 ((17914, 14, 'scrapate')): Thresholded.\n",
      "Index 47 of 155 ((17914, 18, 'scrapate')): Thresholded.\n",
      "Index 48 of 155 ((17814, 28, 'scrapate')): Thresholded.\n",
      "Index 49 of 155 ((18114, 2, 'scrapate')): Thresholded.\n",
      "Index 50 of 155 ((18014, 34, 'scrapate')): Thresholded.\n",
      "Index 51 of 155 ((17914, 13, 'scrapate')): Thresholded.\n",
      "Index 52 of 155 ((17814, 19, 'scrapate')): Skipped.\n",
      "Index 53 of 155 ((17814, 8, 'scrapate')): Thresholded.\n",
      "Index 54 of 155 ((17513, 14, 'scrapate')): Thresholded.\n",
      "Index 55 of 155 ((18014, 33, 'scrapate')): Thresholded.\n",
      "Index 56 of 155 ((17814, 15, 'scrapate')): Thresholded.\n",
      "Index 57 of 155 ((17814, 6, 'scrapate')): Thresholded.\n",
      "Index 58 of 155 ((18014, 11, 'scrapate')): Thresholded.\n",
      "Index 59 of 155 ((17513, 17, 'scrapate')): Thresholded.\n",
      "Index 60 of 155 ((17814, 5, 'scrapate')): Thresholded.\n",
      "Index 61 of 155 ((18014, 2, 'ga')): Thresholded.\n",
      "Index 62 of 155 ((18114, 3, 'scrapate')): Thresholded.\n",
      "Index 63 of 155 ((15614, 4, 'scrapate')): Thresholded.\n",
      "Index 64 of 155 ((17914, 17, 'scrapate')): Thresholded.\n",
      "Index 65 of 155 ((18114, 20, 'scrapate')): Thresholded.\n",
      "Index 66 of 155 ((15614, 11, 'scrapate')): Thresholded.\n",
      "Index 67 of 155 ((17914, 4, 'scrapate')): Thresholded.\n",
      "Index 68 of 155 ((18014, 23, 'scrapate')): Thresholded.\n",
      "Index 69 of 155 ((17914, 6, 'scrapate')): Thresholded.\n",
      "Index 70 of 155 ((18114, 8, 'scrapate')): Thresholded.\n",
      "Index 71 of 155 ((18014, 14, 'scrapate')): Thresholded.\n",
      "Index 72 of 155 ((17914, 3, 'scrapate')): Thresholded.\n",
      "Index 73 of 155 ((17814, 36, 'scrapate')): Thresholded.\n",
      "Index 74 of 155 ((18014, 26, 'scrapate')): Thresholded.\n",
      "Index 75 of 155 ((18114, 13, 'scrapate')): Thresholded.\n",
      "Index 76 of 155 ((17914, 10, 'scrapate')): Thresholded.\n",
      "Index 77 of 155 ((17814, 16, 'scrapate')): Thresholded.\n",
      "Index 78 of 155 ((17814, 33, 'scrapate')): Skipped.\n",
      "Index 79 of 155 ((17914, 9, 'scrapate')): Thresholded.\n",
      "Index 80 of 155 ((17814, 23, 'scrapate')): Skipped.\n",
      "Index 81 of 155 ((17814, 12, 'scrapate')): Thresholded.\n",
      "Index 82 of 155 ((18014, 29, 'scrapate')): Thresholded.\n",
      "Index 83 of 155 ((17814, 3, 'scrapate')): Thresholded.\n",
      "Index 84 of 155 ((17914, 16, 'scrapate')): Thresholded.\n",
      "Index 85 of 155 ((17513, 9, 'scrapate')): Thresholded.\n",
      "Index 86 of 155 ((17814, 26, 'scrapate')): Thresholded.\n",
      "Index 87 of 155 ((15614, 17, 'scrapate')): Thresholded.\n",
      "Index 88 of 155 ((18014, 15, 'scrapate')): Thresholded.\n",
      "Index 89 of 155 ((17814, 25, 'scrapate')): Thresholded.\n",
      "Index 90 of 155 ((17513, 4, 'scrapate')): Thresholded.\n",
      "Index 91 of 155 ((17914, 19, 'scrapate')): Thresholded.\n",
      "Index 92 of 155 ((18014, 27, 'scrapate')): Thresholded.\n",
      "Index 93 of 155 ((17914, 2, 'scrapate')): Thresholded.\n",
      "Index 94 of 155 ((18014, 4, 'scrapate')): Thresholded.\n",
      "Index 95 of 155 ((17513, 16, 'scrapate')): Thresholded.\n",
      "Index 96 of 155 ((15614, 8, 'scrapate')): Thresholded.\n",
      "Index 97 of 155 ((18114, 16, 'scrapate')): Thresholded.\n",
      "Index 98 of 155 ((18014, 16, 'scrapate')): Thresholded.\n",
      "Index 99 of 155 ((15614, 15, 'scrapate')): Thresholded.\n",
      "Index 100 of 155 ((15614, 20, 'scrapate')): Thresholded.\n",
      "Index 101 of 155 ((18014, 1, 'scrapate')): Thresholded.\n",
      "Index 102 of 155 ((18114, 4, 'scrapate')): Thresholded.\n",
      "Index 103 of 155 ((15614, 19, 'scrapate')): Thresholded.\n",
      "Index 104 of 155 ((18114, 21, 'scrapate')): Thresholded.\n",
      "Index 105 of 155 ((17914, 15, 'scrapate')): Thresholded.\n",
      "Index 106 of 155 ((18014, 30, 'scrapate')): Thresholded.\n",
      "Index 107 of 155 ((18014, 35, 'scrapate')): Thresholded.\n",
      "Index 108 of 155 ((18114, 9, 'scrapate')): Skipped.\n",
      "Index 109 of 155 ((15614, 2, 'scrapate')): Thresholded.\n",
      "Index 110 of 155 ((17814, 20, 'scrapate')): Thresholded.\n",
      "Index 111 of 155 ((15614, 16, 'scrapate')): Thresholded.\n",
      "Index 112 of 155 ((17814, 1, 'ga')): Thresholded.\n",
      "Index 113 of 155 ((17814, 37, 'scrapate')): Thresholded.\n",
      "Index 114 of 155 ((15614, 1, 'scrapate')): Thresholded.\n",
      "Index 115 of 155 ((18114, 14, 'scrapate')): Thresholded.\n",
      "Index 116 of 155 ((17814, 34, 'scrapate')): Skipped.\n",
      "Index 117 of 155 ((17814, 7, 'scrapate')): Thresholded.\n",
      "Index 118 of 155 ((17914, 1, 'scrapate')): Thresholded.\n",
      "Index 119 of 155 ((17513, 2, 'scrapate')): Skipped.\n",
      "Index 120 of 155 ((17814, 30, 'scrapate')): Thresholded.\n",
      "Index 121 of 155 ((17814, 29, 'scrapate')): Thresholded.\n",
      "Index 122 of 155 ((17513, 8, 'scrapate')): Thresholded.\n",
      "Index 123 of 155 ((18014, 31, 'scrapate')): Thresholded.\n",
      "Index 124 of 155 ((17814, 9, 'scrapate')): Thresholded.\n",
      "Index 125 of 155 ((18014, 8, 'scrapate')): Thresholded.\n",
      "Index 126 of 155 ((15614, 12, 'scrapate')): Thresholded.\n",
      "Index 127 of 155 ((17513, 7, 'scrapate')): Skipped.\n",
      "Index 128 of 155 ((18014, 20, 'scrapate')): Thresholded.\n",
      "Index 129 of 155 ((18114, 15, 'scrapate')): Thresholded.\n",
      "Index 130 of 155 ((17914, 12, 'scrapate')): Thresholded.\n",
      "Index 131 of 155 ((18014, 5, 'scrapate')): Thresholded.\n",
      "Index 132 of 155 ((17513, 19, 'scrapate')): Thresholded.\n",
      "Index 133 of 155 ((18014, 'neg', 'scrapate')): Skipped.\n",
      "Index 134 of 155 ((17814, 35, 'scrapate')): Skipped.\n",
      "Index 135 of 155 ((18014, 32, 'scrapate')): Thresholded.\n",
      "Index 136 of 155 ((18114, 17, 'scrapate')): Skipped.\n",
      "Index 137 of 155 ((17914, 11, 'scrapate')): Thresholded.\n",
      "Index 138 of 155 ((18014, 17, 'scrapate')): Thresholded.\n",
      "Index 139 of 155 ((18014, 2, 'scrapate')): Thresholded.\n",
      "Index 140 of 155 ((18114, 5, 'scrapate')): Thresholded.\n",
      "Index 141 of 155 ((15614, 6, 'scrapate')): Thresholded.\n",
      "Index 142 of 155 ((18114, 22, 'scrapate')): Thresholded.\n",
      "Index 143 of 155 ((15614, 5, 'scrapate')): Thresholded.\n",
      "Index 144 of 155 ((17814, 4, 'scrapate')): Thresholded.\n",
      "Index 145 of 155 ((18114, 10, 'scrapate')): Thresholded.\n",
      "Index 146 of 155 ((17914, 5, 'scrapate')): Thresholded.\n",
      "Index 147 of 155 ((17814, 27, 'scrapate')): Skipped.\n",
      "Index 148 of 155 ((18014, 'neg2', 'scrapate')): Skipped.\n",
      "Index 149 of 155 ((17513, 6, 'scrapate')): Thresholded.\n",
      "Index 150 of 155 ((17814, 18, 'scrapate')): Thresholded.\n",
      "Index 151 of 155 ((17814, 17, 'scrapate')): Thresholded.\n",
      "Index 152 of 155 ((17814, 14, 'scrapate')): Skipped.\n",
      "Index 153 of 155 ((17513, 12, 'scrapate')): Thresholded.\n",
      "Index 154 of 155 ((18014, 3, 'scrapate')): Thresholded.\n",
      "Index 155 of 155 ((17814, 13, 'scrapate')): Thresholded.\n"
     ]
    }
   ],
   "source": [
    "passed, threshold_values, threshold_i = run_threshold(data)"
   ]
  },
  {
   "cell_type": "code",
   "execution_count": 64,
   "metadata": {
    "collapsed": false
   },
   "outputs": [],
   "source": [
    "counts = passed.groupby(GROUP_BY).agg(len)['gtag']\n",
    "counts.name='barcodes'\n",
    "counts = pd.DataFrame(counts)\n",
    "counts.reset_index(inplace=True)"
   ]
  },
  {
   "cell_type": "code",
   "execution_count": 65,
   "metadata": {
    "collapsed": false
   },
   "outputs": [],
   "source": [
    "passed.loc[:,'passed_threshold'] = True"
   ]
  },
  {
   "cell_type": "code",
   "execution_count": 66,
   "metadata": {
    "collapsed": false
   },
   "outputs": [],
   "source": [
    "merged = pd.merge(data,passed,on=['monkey','tube','sample_type','qtag','gtag'], how='outer')\n",
    "merged.drop(['molecs_y','reads_y'],axis=1, inplace=True)\n",
    "merged.rename(columns={'molecs_x':'molecs','reads_x':'reads'},inplace=True)\n",
    "merged.passed_threshold = merged.passed_threshold.fillna(False)"
   ]
  },
  {
   "cell_type": "code",
   "execution_count": null,
   "metadata": {
    "collapsed": true
   },
   "outputs": [],
   "source": [
    "merged.to_csv('../output/thresholded-allmonkey-scrapates_ga-barcodes.csv')"
   ]
  },
  {
   "cell_type": "code",
   "execution_count": 67,
   "metadata": {
    "collapsed": false
   },
   "outputs": [],
   "source": [
    "pd.DataFrame(counts).to_csv('../output/thresholded-allmonkey-scrapates_ga-counts.csv')\n"
   ]
  },
  {
   "cell_type": "code",
   "execution_count": 68,
   "metadata": {
    "collapsed": true
   },
   "outputs": [],
   "source": [
    "merged.to_csv('../output/thresholded-allmonkey-scrapates_ga-barcodes-merged.csv')"
   ]
  }
 ],
 "metadata": {
  "kernelspec": {
   "display_name": "Python 2",
   "language": "python",
   "name": "python2"
  },
  "language_info": {
   "codemirror_mode": {
    "name": "ipython",
    "version": 2
   },
   "file_extension": ".py",
   "mimetype": "text/x-python",
   "name": "python",
   "nbconvert_exporter": "python",
   "pygments_lexer": "ipython2",
   "version": "2.7.11"
  }
 },
 "nbformat": 4,
 "nbformat_minor": 0
}
