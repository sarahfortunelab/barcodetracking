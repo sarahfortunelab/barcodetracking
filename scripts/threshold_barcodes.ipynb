{
 "cells": [
  {
   "cell_type": "code",
   "execution_count": 1,
   "metadata": {
    "collapsed": false,
    "scrolled": false
   },
   "outputs": [],
   "source": [
    "import pandas as pd\n",
    "import numpy as np\n",
    "import regex\n",
    "import os, sys"
   ]
  },
  {
   "cell_type": "code",
   "execution_count": 2,
   "metadata": {
    "collapsed": false
   },
   "outputs": [],
   "source": [
    "\"\"\"User inputs\"\"\"\n",
    "\n",
    "\"\"\"Experiment name to name output files\"\"\"\n",
    "EXPERIMENT = \"sample\"\n",
    "\n",
    "\"\"\"Directory path to input data\"\"\"\n",
    "FILTERED_FILEPATH = \"../output/filtered-sample.csv\"\n",
    "\n",
    "\"\"\"Directory path to save output\"\"\"\n",
    "OUTPUT_DIRECTORY = \"../output\"\n",
    "# s\n",
    "\"\"\"Minimum number of reads as a baseline\n",
    "\n",
    "Used to simplify data processing. \n",
    "\"\"\"\n",
    "MIN_READS = 100\n",
    "\n",
    "# \"\"\"Groupby for multiple index defining columns\"\"\"\n",
    "# GROUPBY = ['idx']"
   ]
  },
  {
   "cell_type": "code",
   "execution_count": 3,
   "metadata": {
    "collapsed": true
   },
   "outputs": [],
   "source": [
    "MOLECS = 'mcountsPF'\n",
    "QTAG = 'qtag'\n",
    "BARCODE = 'barcode'\n",
    "INDEX = 'idx'\n",
    "READS = 'readsPF'\n",
    "PER_MOLECS = 'percent_%s'%MOLECS"
   ]
  },
  {
   "cell_type": "code",
   "execution_count": 4,
   "metadata": {
    "collapsed": true
   },
   "outputs": [],
   "source": [
    "\"\"\"Updates percent molec counters for index\"\"\"\n",
    "\n",
    "def calculate_percent_molecs(df):\n",
    "    total = float(df[MOLECS].values.sum()) / 100.\n",
    "    df[PER_MOLECS] = df[MOLECS].apply(lambda x: x/total)\n",
    "    df = df.sort_values(by=MOLECS, ascending=False)\n",
    "    return df"
   ]
  },
  {
   "cell_type": "code",
   "execution_count": 5,
   "metadata": {
    "collapsed": false
   },
   "outputs": [],
   "source": [
    "\"\"\"Loads filtered lib-ID-barcode data csv to dict of indexes\"\"\"\n",
    "\n",
    "def load_data(filtered_file):\n",
    "    columns = [INDEX, QTAG, BARCODE, MOLECS, READS]\n",
    "    \n",
    "    # loads excel file (all tabs)\n",
    "    csv = pd.read_csv(filtered_file)\n",
    "    # filter out null barcodes just in case (if custom user input)\n",
    "    csv = csv.loc[(csv[QTAG]!='None') & (csv[BARCODE]!='None')]\n",
    "    # format\n",
    "    csv = csv[columns]\n",
    "    csv[INDEX] = csv[INDEX].apply(lambda x: str(x))\n",
    "    # get percent molecs per index, store as output dict entry \n",
    "    data = {}\n",
    "    for idx, group in csv.groupby(INDEX):\n",
    "        group = calculate_percent_molecs(group.copy())\n",
    "        data[idx] = group\n",
    "    return data\n"
   ]
  },
  {
   "cell_type": "code",
   "execution_count": 136,
   "metadata": {
    "collapsed": true
   },
   "outputs": [],
   "source": [
    "def check_data(d):\n",
    "    # wrangle data to list of list-like pairs, as \"[idx, df]\"\n",
    "    data_arr = []\n",
    "    if type(d) in [np.array, list] :\n",
    "        data_arr = d\n",
    "    elif type(d) == dict:\n",
    "        data_arr = d.items()\n",
    "    elif type(d) == pd.DataFrame :\n",
    "        data_arr = [(s,df) for s,df in d.groupby(sample)]\n",
    "    else:\n",
    "        print \"Input data is not in correct format. Please provide list-like, dict, or pd.DataFrame\"\n",
    "    \n",
    "    # check input has correct values\n",
    "    try:\n",
    "        for a in data_arr:\n",
    "            assert len(a) == 2\n",
    "            assert type(a[0]) == str\n",
    "            assert type(a[1]) == pd.DataFrame\n",
    "            assert INDEX in a[1].columns\n",
    "            assert MOLECS in a[1].columns\n",
    "            assert READS in a[1].columns      \n",
    "    except IndexError as e:\n",
    "        print a\n",
    "        print \"Item number of values is not 2.\\n\"%e.message\n",
    "    except ValueError as e:\n",
    "        print a\n",
    "        print \"Index name could not be converted to float: %s\\n%s\"%(\n",
    "            type(item[i]), e.message)\n",
    "    except AssertionError as e:\n",
    "        print a\n",
    "        print \"Assertion failed: %s\\n\"%e.message\n",
    "    return data_arr"
   ]
  },
  {
   "cell_type": "code",
   "execution_count": 131,
   "metadata": {
    "collapsed": false
   },
   "outputs": [],
   "source": [
    "\"\"\"Thresholds barcodes of a given index\n",
    "\n",
    "    group(pd.DataFrame): df containing library-ID-barcodes, \n",
    "        mcountsPF and percent_mcountsPF\n",
    "    reps_remaining(int): reps remaining from max number \n",
    "        input from user \n",
    "    thresh_val(float or int): initial threshold value (percent_mcountPF)\n",
    "        provided from previous recursion or user input\n",
    "    thresh_i(int): initial position of threshold value in \n",
    "        percent_mcountsPF list, ranging [0,len(group))\n",
    "        \n",
    "    Returns: \n",
    "        None, if thresholding fails;\n",
    "        passed(pd.DataFrame), if thresholding successful; or\n",
    "        self, otherwise, with updated threshold values and \n",
    "            group df.\n",
    "\"\"\"\n",
    "\n",
    "def threshold(group, reps_remaining, thresh_val, thresh_i):\n",
    "    # max out reps\n",
    "    if reps_remaining <= 0:\n",
    "        print 'Maxed out reps. Skipping group.'\n",
    "    # no barcodes passed threshold \n",
    "    elif len(group) == 0:\n",
    "        print \"No barcodes passed threshold. Skipping index.\"\n",
    "    else:\n",
    "        # calculate new threshold \n",
    "        calc_threshold_i = calculate_threshold(group.mcountsPF.values)+1\n",
    "        new_thresh_i = min(calc_threshold_i, len(group)-1)\n",
    "        new_thresh_val = group.percent_mcountsPF.values[new_thresh_i]\n",
    "        # if reached steady state\n",
    "        if new_thresh_val == thresh_val:\n",
    "            # get rid of any \"padding\" barcodes (see eliminate_oneoffs fn)\n",
    "            passed = group.loc[group.is_padding == False]\n",
    "            # update percent molecs\n",
    "            passed = calculate_percent_molecs(passed).reindex(range(len(passed)))\n",
    "            sys.stdout.write('Thresholded.\\n')\n",
    "            return passed\n",
    "        # recursively clean and re-threshold\n",
    "        else:\n",
    "            # clean up group by eliminating one-offs\n",
    "            group = calculate_percent_molecs(group)\n",
    "            cleaned = eliminate_oneoffs(group,new_thresh_val)\n",
    "            # recurse with cleaned df and new threshold values\n",
    "            return threshold(cleaned, reps_remaining-1, new_thresh_val, new_thresh_i)\n",
    "        \n",
    "    # if thresholding failed, return None\n",
    "    sys.stdout.write('Skipped.\\n')\n",
    "    return pd.DataFrame()"
   ]
  },
  {
   "cell_type": "code",
   "execution_count": 110,
   "metadata": {
    "collapsed": true
   },
   "outputs": [],
   "source": [
    "# STEP 2: CALCULATE THRESHOLD via. CONCAVITY\n",
    "\"\"\"Calculates threshold of series with modified concavity approach\n",
    "\n",
    "    y(np.array or list): list or list-like object of \n",
    "        values as floats or ints\n",
    "    \n",
    "    Returns index of inflection point in array, \n",
    "        i.e. threshold position.\n",
    "\"\"\"\n",
    "\n",
    "def calculate_threshold(y):\n",
    "    \n",
    "    \"\"\"Constructs list of overlapping subarray ranges of size 2\"\"\"\n",
    "    def rolling_window(arr):\n",
    "        shape = arr.shape[:-1] + (arr.shape[-1]-1, 2)\n",
    "        strides = arr.strides + (arr.strides[-1],)\n",
    "        windows = np.lib.stride_tricks.as_strided(arr, \n",
    "                              shape=shape, strides=strides)\n",
    "        return windows\n",
    "    \"\"\"Generates first derivative of windows as relative difference\"\"\"\n",
    "    def first_d_gen(windows):\n",
    "        for w in windows:\n",
    "            yield float(w[1]-w[0])/w[0]\n",
    "    \"\"\"Gemerates second derivative of windows\"\"\"\n",
    "    def second_d_gen(windows):\n",
    "        for w in windows:\n",
    "            yield w[1]-w[0]         \n",
    "    \n",
    "    # left and right padding to cover all array vals in derivations\n",
    "    yarray = np.concatenate([ [y[0]], y, [1] ])\n",
    "    # calculates first derivative\n",
    "    first_windows = rolling_window(yarray)\n",
    "    first_derivs = np.fromiter(first_d_gen(first_windows), np.float\n",
    "                               , count=len(first_windows))\n",
    "    # calculates second derivative\n",
    "    second_windows = rolling_window(first_derivs)\n",
    "    second_derivs = np.fromiter(second_d_gen(second_windows), np.float\n",
    "                                , count=len(second_windows))\n",
    "    # gets index or position value of inflection point\n",
    "    thresh_i = np.argmin(second_derivs)+1\n",
    "    return thresh_i"
   ]
  },
  {
   "cell_type": "code",
   "execution_count": 98,
   "metadata": {
    "collapsed": true
   },
   "outputs": [],
   "source": [
    "# STEP 3: CLEAN BY ELIMINATING ONE-OFFS\n",
    "def eliminate_oneoffs(group, thresh_val, pad=True):\n",
    "    \n",
    "    group.loc[:,'delete'] = group.mcountsPF.apply(lambda _: False)\n",
    "    group.loc[:,'is_padding'] = False\n",
    "    counter = 0\n",
    "    # add capability to check other parameters, i.e. qtag\n",
    "    for majorI, marow in group.loc[group.percent_mcountsPF >= thresh_val].iterrows():\n",
    "        majorG, majorQ, majorDel = marow[['barcode','qtag','delete']]\n",
    "        if majorDel == False:\n",
    "            motif = \"(%s){s<=1}\"%majorG\n",
    "            subgroup = group[counter+1:].loc[(group.delete==False)]\n",
    "            for minorI, mirow in subgroup.iterrows():\n",
    "                minorG = mirow['barcode']\n",
    "                query = regex.search(motif,minorG)\n",
    "                if query:\n",
    "                    group.loc[minorI,'delete'] = True\n",
    "        counter+=1\n",
    "        \n",
    "    output = group.loc[(group.delete==False)]\n",
    "    deletes_mcountsPF = group.loc[group.delete==True].mcountsPF\n",
    "    if len(deletes_mcountsPF)> 0 and pad==True:\n",
    "        max_deletes_i = deletes_mcountsPF.idxmax()\n",
    "        output = group.loc[(group.delete==False) | (group.index==max_deletes_i)]\n",
    "        output.loc[:,'delete'] = False \n",
    "        output.loc[max_deletes_i, 'is_padding'] = True\n",
    "\n",
    "    return output\n",
    "            "
   ]
  },
  {
   "cell_type": "code",
   "execution_count": 128,
   "metadata": {
    "collapsed": false
   },
   "outputs": [],
   "source": [
    "# ORIGINAL / INITIAL\n",
    "# RUN THRESHOLDING FOR ALL SAMPLES IN DICT\n",
    "def run_threshold(d, sample=[INDEX]):\n",
    "\n",
    "    passed = []\n",
    "    counter = 1\n",
    "    \n",
    "    data_arr = check_data(d)\n",
    "    for idx, group in data_arr:\n",
    "        msg = \"Index %d of %d (%s): \"%(counter,len(data_arr),idx)\n",
    "        group = group.loc[(group.qtag!='None') & (group.barcode!='None') \n",
    "                          & (group.mcountsPF>50)\n",
    "                          & (group.readsPF>MIN_READS)]\n",
    "        result = threshold(group, 20, -1, len(group)+2)\n",
    "        passed.append(result)\n",
    "        sys.stdout.flush()\n",
    "        counter += 1\n",
    "    if len(passed) > 0:\n",
    "        passeddf = pd.concat(passed)\n",
    "        passeddf.sort_values(by=[SAMPLE+[PER_MOLECS]]\n",
    "                             ,ascending=[True,False],inplace=True)\n",
    "        passeddf.drop(['delete','is_padding'], axis=1, inplace=True)\n",
    "        return passeddf\n",
    "    else:\n",
    "        print \"No indexes were successfully thresholded.\"\n",
    "    return "
   ]
  },
  {
   "cell_type": "code",
   "execution_count": 100,
   "metadata": {
    "collapsed": false
   },
   "outputs": [],
   "source": [
    "data = load_data(FILTERED_FILEPATH)"
   ]
  },
  {
   "cell_type": "code",
   "execution_count": 129,
   "metadata": {
    "collapsed": true
   },
   "outputs": [
    {
     "name": "stdout",
     "output_type": "stream",
     "text": [
      "checked idx NH025\n",
      "checked idx NH120\n",
      "checked idx NH001\n",
      "checked idx NH005\n"
     ]
    },
    {
     "name": "stderr",
     "output_type": "stream",
     "text": [
      "C:\\Users\\vwl698\\Anaconda2\\lib\\site-packages\\ipykernel\\__main__.py:5: SettingWithCopyWarning: \n",
      "A value is trying to be set on a copy of a slice from a DataFrame.\n",
      "Try using .loc[row_indexer,col_indexer] = value instead\n",
      "\n",
      "See the caveats in the documentation: http://pandas.pydata.org/pandas-docs/stable/indexing.html#indexing-view-versus-copy\n"
     ]
    },
    {
     "name": "stdout",
     "output_type": "stream",
     "text": [
      "Thresholded.\n",
      "Thresholded.\n",
      "Thresholded.\n",
      "Thresholded.\n",
      "Thresholded.\n",
      "Thresholded.\n",
      "Thresholded.\n",
      "Thresholded.\n",
      "Thresholded.\n",
      "Thresholded.\n"
     ]
    }
   ],
   "source": [
    "passed = run_threshold(data)"
   ]
  },
  {
   "cell_type": "code",
   "execution_count": null,
   "metadata": {
    "collapsed": true
   },
   "outputs": [],
   "source": [
    "passed.loc[:,'passed_threshold'] = True\n",
    "passed.to_csv('../output/thresholded-%s-passed.csv'%EXP_NAME)"
   ]
  },
  {
   "cell_type": "code",
   "execution_count": 102,
   "metadata": {
    "collapsed": false
   },
   "outputs": [],
   "source": [
    "counts = passed.groupby(GROUP_BY).agg(len)['gtag']\n",
    "counts.name='barcodes'\n",
    "counts = pd.DataFrame(counts)\n",
    "counts.reset_index(inplace=True)\n",
    "counts.to_csv('../output/thresholded-%s-counts.csv'%EXP_NAME)"
   ]
  },
  {
   "cell_type": "code",
   "execution_count": 107,
   "metadata": {
    "collapsed": false
   },
   "outputs": [],
   "source": [
    "merged = pd.merge(data,passed,on=['idx','qtag','barcode'], how='outer')\n",
    "#merged.drop(['molecs_y','reads_y','percent_molecs'],axis=1, inplace=True)\n",
    "#merged.rename(columns={'molecs_x':'molecs','reads_x':'reads'},inplace=True)\n",
    "merged.passed_threshold = merged.passed_threshold.fillna(False)\n",
    "merged.to_csv('../output/thresholded-%s-merged.csv'%EXP_NAME)"
   ]
  }
 ],
 "metadata": {
  "anaconda-cloud": {},
  "kernelspec": {
   "display_name": "Python [Root]",
   "language": "python",
   "name": "Python [Root]"
  },
  "language_info": {
   "codemirror_mode": {
    "name": "ipython",
    "version": 2
   },
   "file_extension": ".py",
   "mimetype": "text/x-python",
   "name": "python",
   "nbconvert_exporter": "python",
   "pygments_lexer": "ipython2",
   "version": "2.7.12"
  }
 },
 "nbformat": 4,
 "nbformat_minor": 0
}
