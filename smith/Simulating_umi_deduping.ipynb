{
 "cells": [
  {
   "cell_type": "markdown",
   "metadata": {},
   "source": [
    "This notebook is a standalone simulation of PCR amplification and sequencing of UMI-tagged fragments followed by removal of PCR duplicates using the methods implemented in dedup_umi.py.\n",
    "\n",
    "The notebook works from the ground up, starting with basic functions to simulate random selection of UMIs and amplification and then building in errors and deduplication before finishing off with an object to perform simulations across a range of input values and return plots of metrics."
   ]
  },
  {
   "cell_type": "markdown",
   "metadata": {},
   "source": [
    "First, a function to randomly select UMIs"
   ]
  },
  {
   "cell_type": "code",
   "execution_count": 2,
   "metadata": {
    "collapsed": false
   },
   "outputs": [],
   "source": [
    "import numpy as np\n",
    "import collections\n",
    "import pandas as pd \n",
    "import os\n",
    "import matplotlib.pyplot as plt\n",
    "# %load_ext rpy2.ipython"
   ]
  },
  {
   "cell_type": "markdown",
   "metadata": {},
   "source": [
    "## Conclusions from Smith\n",
    "##### 2016-10-25. VWL\n",
    "\n",
    "Directed adjacency strategy is good for clean data (uncomplicated compared to mouse data) and allows for comparing sequences (e.g. GC abundance) later on. However, one cannot obviously incorporate smoothing functions, which are necessary for complex data with high numbers of UMIs. \n",
    "\n",
    "Algo worked well with Nate's colony data, but still lacking in ID of mouse data.\n",
    "\n",
    "(See scripts/2-explore.ipynb:  window smoothing function helps with threshold accuracy. Will continue to explore and figure out how to incorporate this graph approach with my quantitatively flexible (and automatic) thresholding.)"
   ]
  },
  {
   "cell_type": "markdown",
   "metadata": {},
   "source": [
    "### EXPLORE"
   ]
  },
  {
   "cell_type": "code",
   "execution_count": 178,
   "metadata": {
    "collapsed": false
   },
   "outputs": [],
   "source": [
    "test_idx = 'NH025'\n",
    "data = pd.read_csv(\"../output/filtered-sample.csv\").drop(\"Unnamed: 0\", axis=1)\n",
    "test = data.loc[data.idx==test_idx]"
   ]
  },
  {
   "cell_type": "code",
   "execution_count": 179,
   "metadata": {
    "collapsed": false,
    "scrolled": false
   },
   "outputs": [
    {
     "name": "stderr",
     "output_type": "stream",
     "text": [
      "C:\\Users\\vwl698\\Anaconda2\\lib\\site-packages\\ipykernel\\__main__.py:2: SettingWithCopyWarning: \n",
      "A value is trying to be set on a copy of a slice from a DataFrame\n",
      "\n",
      "See the caveats in the documentation: http://pandas.pydata.org/pandas-docs/stable/indexing.html#indexing-view-versus-copy\n",
      "  from ipykernel import kernelapp as app\n"
     ]
    }
   ],
   "source": [
    "# help(test[['barcode','mcountsPF']].to_dict)\n",
    "test.sort_values(by='mcountsPF',ascending=False,inplace=True)\n",
    "counts_list = test[['barcode','mcountsPF']].T.to_dict(orient='list')\n",
    "counts_dict = dict([(c1, int(c2)) for c1,c2 in counts_list.values()])\n",
    "count_collect = collections.Counter(counts_dict)"
   ]
  },
  {
   "cell_type": "code",
   "execution_count": 186,
   "metadata": {
    "collapsed": false
   },
   "outputs": [
    {
     "data": {
      "text/plain": [
       "[<matplotlib.lines.Line2D at 0xd974be0>]"
      ]
     },
     "execution_count": 186,
     "metadata": {},
     "output_type": "execute_result"
    },
    {
     "data": {
      "image/png": "[encoded data removed]",
      "text/plain": [
       "<matplotlib.figure.Figure at 0xd820860>"
      ]
     },
     "metadata": {},
     "output_type": "display_data"
    }
   ],
   "source": [
    "f, ax = plt.subplots()\n",
    "ax.plot(range(len(counts_list)), np.log10([c[1] for c in counts_list.values()]))\n",
    "ax.plot([25,25], np.log10([1,5000]), c='red')"
   ]
  },
  {
   "cell_type": "markdown",
   "metadata": {},
   "source": [
    "### MOUSE"
   ]
  },
  {
   "cell_type": "code",
   "execution_count": null,
   "metadata": {
    "collapsed": true
   },
   "outputs": [],
   "source": [
    "mouse = pd.read_csv('../output/filtered-mouse_sample.csv').drop(\"Unnamed: 0\", axis=1)\n",
    "mouse.loc[:,'umi'] = mouse.apply(lambda x: x.qtag+x.barcode, axis=1)\n",
    "groups = mouse.groupby('idx')\n",
    "indexes = groups.groups.keys()"
   ]
  },
  {
   "cell_type": "code",
   "execution_count": 125,
   "metadata": {
    "collapsed": true
   },
   "outputs": [],
   "source": [
    "csv24 = groups.get_group('CS-V24')[['umi','mcountsPF']]\n",
    "csv24.set_index('umi', inplace=True)\n",
    "csv24_count = collections.Counter(csv24.to_dict()['mcountsPF'])"
   ]
  },
  {
   "cell_type": "code",
   "execution_count": 194,
   "metadata": {
    "collapsed": false
   },
   "outputs": [
    {
     "data": {
      "text/plain": [
       "[<matplotlib.lines.Line2D at 0xf27c7f0>]"
      ]
     },
     "execution_count": 194,
     "metadata": {},
     "output_type": "execute_result"
    },
    {
     "data": {
      "image/png": "[encoded data removed]",
      "text/plain": [
       "<matplotlib.figure.Figure at 0xf27c6d8>"
      ]
     },
     "metadata": {},
     "output_type": "display_data"
    }
   ],
   "source": [
    "csv24.sort_values(by='mcountsPF',ascending=False, inplace=True)\n",
    "plt.plot(range(len(csv24)), np.log10(csv24.mcountsPF))\n",
    "plt.plot([53,53], np.log10([1,5000]), c='green')\n",
    "# plt.xlim(0,300)"
   ]
  },
  {
   "cell_type": "markdown",
   "metadata": {},
   "source": [
    "### SMITH"
   ]
  },
  {
   "cell_type": "code",
   "execution_count": 158,
   "metadata": {
    "collapsed": true
   },
   "outputs": [],
   "source": [
    "def CountsPerMethod(iterations, UMIs_after_seq):\n",
    "    \n",
    "    no_dedup_counts = []\n",
    "    unique_dedup_counts = []\n",
    "    perc_dedup_counts = []\n",
    "    cluster_dedup_counts = []\n",
    "    adj_dedup_counts = []\n",
    "    dir_adj_dedup_counts = []\n",
    "\n",
    "    UMIs_after_seq = csv24_count\n",
    "    for x in range(0, iterations):\n",
    "        no_dedup_counts.append(dedup_none(UMIs_after_seq))\n",
    "        unique_dedup_counts.append(dedup_unique(UMIs_after_seq))\n",
    "        perc_dedup_counts.append(dedup_percentile(UMIs_after_seq))\n",
    "        cluster_dedup_counts.append(dedup_cluster(UMIs_after_seq))\n",
    "        adj_dedup_counts.append(dedup_adj(UMIs_after_seq))\n",
    "        dir_adj_dedup_counts.append(dedup_dir_adj(UMIs_after_seq))\n",
    "\n",
    "    return (no_dedup_counts, unique_dedup_counts, perc_dedup_counts,\n",
    "            cluster_dedup_counts, adj_dedup_counts, dir_adj_dedup_counts)"
   ]
  },
  {
   "cell_type": "code",
   "execution_count": 159,
   "metadata": {
    "collapsed": false
   },
   "outputs": [],
   "source": [
    "iterations = 10 # iterations per simulation to estimate coefficient of variation\n",
    "\n",
    "dedup_methods = [\"none\", \"unique\", \"perc\", \"cluster\", \"adj\", \"dir_adj\"]\n",
    "counts = CountsPerMethod(iterations, csv24_count)\n",
    "\n",
    "(no_dedup_counts, unique_dedup_counts, perc_dedup_counts,\n",
    " cluster_dedup_counts, adj_dedup_counts, dir_adj_dedup_counts) = counts\n",
    "\n",
    "no_dedup_CV = np.std(no_dedup_counts)/np.mean(no_dedup_counts)\n",
    "unique_dedup_CV = np.std(unique_dedup_counts)/np.mean(unique_dedup_counts)\n",
    "perc_dedup_CV = np.std(perc_dedup_counts)/np.mean(perc_dedup_counts)\n",
    "cluster_dedup_CV = np.std(cluster_dedup_counts)/np.mean(cluster_dedup_counts)\n",
    "adj_dedup_CV = np.std(adj_dedup_counts)/np.mean(adj_dedup_counts)\n",
    "dir_adj_dedup_CV = np.std(dir_adj_dedup_counts)/np.mean(dir_adj_dedup_counts)\n",
    "\n",
    "CVs = no_dedup_CV, unique_dedup_CV, perc_dedup_CV, cluster_dedup_CV, adj_dedup_CV, dir_adj_dedup_CV\n",
    "tmp_df = pd.DataFrame({'number_of_molecules':sum(csv24_count.values()),\n",
    "                       'dedup':dedup_methods,\n",
    "                       'count':[np.mean(x) for x in counts],\n",
    "                       'CV':CVs})\n"
   ]
  },
  {
   "cell_type": "markdown",
   "metadata": {},
   "source": [
    "### DEDUP"
   ]
  },
  {
   "cell_type": "markdown",
   "metadata": {},
   "source": [
    "Let's make a functional equivalents of the various dedup methods to handle the Counter object.\n",
    "\n",
    "In the tool itself we want to return the best read(s) at each location using the deduplication method. Here we can simply return the count of best read(s).\n",
    "\n",
    "\"none\" method\n",
    "    - return the total counts \n",
    "\n",
    "Unique method\n",
    "    - return the len of the Counter\n",
    "\n",
    "Percentile method\n",
    "    - return all UMIs where the counts are greater than median/100\n",
    "\n",
    "Cluster method\n",
    "    - need to derive adjacency matrix from the Counts (Hamming distance =1)\n",
    "    - return the count of connected components\n",
    "    \n",
    "Adjacency method  \n",
    "    - as above but for each connected component return the parent node (highest counts) and remove all connected nodes\n",
    "    - repeat until all edges are removed in all connected components\n",
    "\n",
    "Directional adjacency method\n",
    "    - as above for Cluster method but derive a directional adjacency matrix (A >2B - 1)\n",
    "                            "
   ]
  },
  {
   "cell_type": "code",
   "execution_count": null,
   "metadata": {
    "collapsed": true
   },
   "outputs": [],
   "source": [
    "def edit_dist(first, second):\n",
    "    ''' returns the edit distance/hamming distances between\n",
    "    its two arguements '''\n",
    "\n",
    "    dist = sum([not a == b for a, b in zip(first, second)])\n",
    "    return dist\n",
    "\n",
    "def breadth_first_search(node, adj_list):\n",
    "    searched = set()\n",
    "    found = set()\n",
    "    queue = set()\n",
    "    queue.update((node,))\n",
    "    found.update((node,))\n",
    "    while len(queue)>0:\n",
    "        node=(list(queue))[0]\n",
    "        found.update(adj_list[node])\n",
    "        queue.update(adj_list[node])\n",
    "        searched.update((node,))\n",
    "        queue.difference_update(searched)   \n",
    "    return found"
   ]
  },
  {
   "cell_type": "code",
   "execution_count": null,
   "metadata": {
    "collapsed": true
   },
   "outputs": [],
   "source": [
    "def dedup_none(Counter):\n",
    "    return sum(Counter.viewvalues())\n",
    "\n",
    "def dedup_unique(Counter):\n",
    "    return len(Counter.keys())\n",
    "\n",
    "def dedup_percentile(Counter):\n",
    "    threshold = np.mean(Counter.values())/100\n",
    "    return len([umi for umi in Counter.keys() if Counter[umi] > threshold])"
   ]
  },
  {
   "cell_type": "code",
   "execution_count": null,
   "metadata": {
    "collapsed": true
   },
   "outputs": [],
   "source": [
    "def dedup_cluster(Counter):\n",
    "    \n",
    "    def get_adj_list_cluster(umis):\n",
    "        return {umi: [umi2 for umi2 in umis if edit_dist(umi, umi2) == 1] for umi in umis}\n",
    "\n",
    "    def get_connected_components_cluster(graph, Counter):\n",
    "        found = list()\n",
    "        components = list()\n",
    "        for node in sorted(graph, key=lambda x: Counter[x], reverse=True):\n",
    "            if node not in found:\n",
    "                component = breadth_first_search(node, graph)\n",
    "                found.extend(component)\n",
    "                components.append(component)\n",
    "        return components\n",
    "   \n",
    "    adj_list = get_adj_list_cluster(Counter.keys())\n",
    "    clusters = get_connected_components_cluster(adj_list, Counter)\n",
    "    return len(clusters)"
   ]
  },
  {
   "cell_type": "code",
   "execution_count": null,
   "metadata": {
    "collapsed": true
   },
   "outputs": [],
   "source": [
    "def dedup_adj(Counter):\n",
    "    \n",
    "    def get_adj_list_adjacency(umis):\n",
    "        return {umi: [umi2 for umi2 in umis if edit_dist(umi, umi2) == 1] for umi in umis}\n",
    "\n",
    "    def get_connected_components_adjacency(graph, Counter):\n",
    "        found = list()\n",
    "        components = list()\n",
    "        for node in sorted(graph, key=lambda x: Counter[x], reverse=True):\n",
    "            if node not in found:\n",
    "                component = breadth_first_search(node, graph)\n",
    "                found.extend(component)\n",
    "                components.append(component)\n",
    "        return components\n",
    "\n",
    "    def remove_umis(adj_list, cluster, nodes):\n",
    "        '''removes the specified nodes from the cluster and returns\n",
    "        the remaining nodes '''\n",
    "        # list incomprehension: for x in nodes: for node in adj_list[x]: yield node\n",
    "        nodes_to_remove = set([node\n",
    "                               for x in nodes\n",
    "                               for node in adj_list[x]] + nodes)\n",
    "        return cluster - nodes_to_remove\n",
    "\n",
    "\n",
    "    def get_best_adjacency(cluster, adj_list, counts):\n",
    "        if len(cluster) == 1:\n",
    "            return list(cluster)\n",
    "        sorted_nodes = sorted(cluster, key=lambda x: counts[x],\n",
    "                              reverse=True)\n",
    "        for i in range(len(sorted_nodes) - 1):\n",
    "            if len(remove_umis(adj_list, cluster, sorted_nodes[:i+1])) == 0:\n",
    "                return sorted_nodes[:i+1]\n",
    "            \n",
    "    def reduce_clusters_adjacency(adj_list, clusters, counts):\n",
    "    # TS - the \"adjacency\" variant of this function requires an adjacency\n",
    "    # list to identify the best umi, whereas the other variants don't\n",
    "    # As temporary solution, pass adj_list to all variants\n",
    "        n=0\n",
    "        for cluster in clusters:\n",
    "            parent_umis = get_best_adjacency(cluster, adj_list, counts)\n",
    "            n += len(parent_umis)\n",
    "        return n \n",
    "    \n",
    "    adj_list = get_adj_list_adjacency(Counter.keys())\n",
    "    clusters = get_connected_components_adjacency(adj_list, Counter)\n",
    "    count = reduce_clusters_adjacency(adj_list, clusters, Counter)\n",
    "    return count"
   ]
  },
  {
   "cell_type": "code",
   "execution_count": 144,
   "metadata": {
    "collapsed": false
   },
   "outputs": [],
   "source": [
    "def dedup_dir_adj(Counter):\n",
    "\n",
    "    def get_adj_list_directional_adjacency(umis, counts):\n",
    "        return {umi: [umi2 for umi2 in umis if edit_dist(umi, umi2) == 1 and\n",
    "                      counts[umi] >= (counts[umi2]*2)-1] for umi in umis}  \n",
    "    \n",
    "    def get_connected_components_adjacency(graph, Counter):\n",
    "        found = list()\n",
    "        components = list()\n",
    "        for node in sorted(graph, key=lambda x: Counter[x], reverse=True):\n",
    "            if node not in found:\n",
    "                component = breadth_first_search(node, graph)\n",
    "                found.extend(component)\n",
    "                components.append(component)\n",
    "        return components\n",
    "\n",
    "    def remove_umis(adj_list, cluster, nodes):\n",
    "        '''removes the specified nodes from the cluster and returns\n",
    "        the remaining nodes '''\n",
    "        # list incomprehension: for x in nodes: for node in adj_list[x]: yield node\n",
    "        nodes_to_remove = set([node\n",
    "                               for x in nodes\n",
    "                               for node in adj_list[x]] + nodes)\n",
    "        return cluster - nodes_to_remove\n",
    "       \n",
    "            \n",
    "    def reduce_clusters_directional_adjacency(adj_list, clusters, counts):\n",
    "        n = 0\n",
    "        for cluster in clusters:\n",
    "            n+=1\n",
    "        return n\n",
    "    \n",
    "    adj_list = get_adj_list_directional_adjacency(Counter.keys(), Counter)\n",
    "    clusters = get_connected_components_adjacency(adj_list, Counter)\n",
    "    count = reduce_clusters_directional_adjacency(adj_list, clusters, Counter)\n",
    "    return count\n",
    "    \n",
    "    \n",
    "    "
   ]
  }
 ],
 "metadata": {
  "kernelspec": {
   "display_name": "Python [Root]",
   "language": "python",
   "name": "Python [Root]"
  },
  "language_info": {
   "codemirror_mode": {
    "name": "ipython",
    "version": 2
   },
   "file_extension": ".py",
   "mimetype": "text/x-python",
   "name": "python",
   "nbconvert_exporter": "python",
   "pygments_lexer": "ipython2",
   "version": "2.7.12"
  }
 },
 "nbformat": 4,
 "nbformat_minor": 0
}
